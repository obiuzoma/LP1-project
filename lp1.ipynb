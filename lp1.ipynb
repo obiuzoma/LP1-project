{
 "cells": [
  {
   "cell_type": "markdown",
   "metadata": {},
   "source": [
    "\n",
    "\n",
    "# Explorin Indian start-up ecosystem\n"
   ]
  },
  {
   "cell_type": "markdown",
   "metadata": {},
   "source": [
    "This project is aimed at using python program to analyze and visualize the Indian starp-up ecosystem to understand the trend and oppurtunities in Indian startup market.\n"
   ]
  },
  {
   "cell_type": "markdown",
   "metadata": {},
   "source": [
    "# Hypothesis"
   ]
  },
  {
   "cell_type": "markdown",
   "metadata": {},
   "source": [
    "Location of the sector has effect on the amount of start up funding\n",
    "\n",
    "Locattion of the sector dose not have any effect on the start up funding"
   ]
  },
  {
   "cell_type": "markdown",
   "metadata": {},
   "source": [
    "<b> Business understanding and Analytical questions<b>"
   ]
  },
  {
   "cell_type": "markdown",
   "metadata": {},
   "source": [
    "1. which Head quarter has the most start up located\n",
    "2. top 10 headquarter that has the highest start up funding\n",
    "3. top 10 sector recieve the most start up funding\n",
    "4. which year has the most highest funding\n",
    "5. What is the funding trend in the Indian start-up ecosystem over the past few years\n",
    "6. In which stage is most sector in Indian Ecosystem are?"
   ]
  },
  {
   "cell_type": "markdown",
   "metadata": {},
   "source": [
    "#  Step 1"
   ]
  },
  {
   "cell_type": "markdown",
   "metadata": {},
   "source": [
    "# Importations"
   ]
  },
  {
   "cell_type": "code",
   "execution_count": 2,
   "metadata": {},
   "outputs": [],
   "source": [
    "# Neccesary liberaries\n",
    "import pyodbc\n",
    "from dotenv import dotenv_values\n",
    "import pandas as pd\n",
    "import numpy as np\n",
    "from scipy import stats\n",
    "import statistics as stat\n",
    "import warnings\n",
    "import os\n",
    "import matplotlib.pyplot as plt\n",
    "import seaborn as sns\n",
    "\n",
    " \n",
    "warnings.filterwarnings('ignore')"
   ]
  },
  {
   "cell_type": "markdown",
   "metadata": {},
   "source": [
    "# Loading of Environments"
   ]
  },
  {
   "cell_type": "code",
   "execution_count": 3,
   "metadata": {},
   "outputs": [],
   "source": [
    "# Load environment variables from .env file into a dictionary\n",
    "environment_variables = dotenv_values('.env')\n",
    " \n",
    " \n",
    "# Get the values for the credentials you set in the '.env' file\n",
    "server = environment_variables.get(\"SERVER\")\n",
    "database = environment_variables.get(\"DATABASE\")\n",
    "username = environment_variables.get(\"USERNAME\")\n",
    "password = environment_variables.get(\"PASSWORD\")"
   ]
  },
  {
   "cell_type": "code",
   "execution_count": 4,
   "metadata": {},
   "outputs": [],
   "source": [
    "# code to connect the sever, database, username and passward\n",
    "conn_str =f\"DRIVER={{SQL Server}};SERVER={server};DATABASE={database};UID={username};PWD={password}\""
   ]
  },
  {
   "cell_type": "code",
   "execution_count": 5,
   "metadata": {},
   "outputs": [],
   "source": [
    "# conection to the server\n",
    "connection = pyodbc.connect(conn_str)\n"
   ]
  },
  {
   "cell_type": "markdown",
   "metadata": {},
   "source": [
    "# Data Loading"
   ]
  },
  {
   "cell_type": "code",
   "execution_count": 6,
   "metadata": {},
   "outputs": [],
   "source": [
    "# import the 2020 and 2021 SQL file from the server\n",
    "query1 = \"Select * from LP1_startup_funding2020\"\n",
    "data_2020 = pd.read_sql(query1, connection)\n",
    " \n",
    "query2 = \"Select * from LP1_startup_funding2021\"\n",
    "data_2021 = pd.read_sql(query2, connection)"
   ]
  },
  {
   "cell_type": "code",
   "execution_count": 7,
   "metadata": {},
   "outputs": [],
   "source": [
    "# 2019 CSV data\n",
    "data_2019 = pd.read_csv('startup_funding2019.csv')"
   ]
  },
  {
   "cell_type": "code",
   "execution_count": 8,
   "metadata": {},
   "outputs": [],
   "source": [
    "# 2018 CSV data\n",
    "data_2018 = pd.read_csv('startup_funding2018.csv')"
   ]
  },
  {
   "cell_type": "code",
   "execution_count": 9,
   "metadata": {},
   "outputs": [],
   "source": [
    "# to add year column to all the imported data\n",
    "data_2018['Year']='2018'\n",
    "data_2019['Year']='2019'\n",
    "data_2020['Year']='2020'\n",
    "data_2021['Year']='2021'"
   ]
  },
  {
   "cell_type": "markdown",
   "metadata": {},
   "source": [
    "# Exploratory Data Analysis:EDA"
   ]
  },
  {
   "cell_type": "code",
   "execution_count": null,
   "metadata": {},
   "outputs": [],
   "source": []
  },
  {
   "cell_type": "markdown",
   "metadata": {},
   "source": [
    "#  Step 2"
   ]
  },
  {
   "cell_type": "markdown",
   "metadata": {},
   "source": [
    "cleaning and concating the two CSV files 2018 and 2019"
   ]
  },
  {
   "cell_type": "code",
   "execution_count": 10,
   "metadata": {},
   "outputs": [],
   "source": [
    "# Drop the Colunms that we may not need for the project\n",
    "\n",
    "data_2019.drop(['Founded', 'Founders', 'Investor'], axis=1, inplace=True)"
   ]
  },
  {
   "cell_type": "code",
   "execution_count": 11,
   "metadata": {},
   "outputs": [],
   "source": [
    "# Select specific columns and rename them\n",
    "\n",
    "data_2018 = data_2018.rename(columns={'Company Name': 'Company_Brand', 'Round/Series': 'Stage', 'Industry': 'Sector', 'Amount': 'Amount', 'About Company': 'BIO', 'Location':'HeadQuarter'})\n",
    "data_2019 = data_2019.rename(columns={'Company/Brand': 'Company_Brand', 'Sector': 'Sector', 'Stage': 'Stage', 'Amount($)': 'Amount', 'What it does': 'BIO', 'HeadQuarter':'HeadQuarter'})"
   ]
  },
  {
   "cell_type": "markdown",
   "metadata": {},
   "source": [
    "Hamornizing the stage column in 2018 & 2019"
   ]
  },
  {
   "cell_type": "markdown",
   "metadata": {},
   "source": [
    "Some of the data in the stage column are named differently but the still do serve the same purpose so we group them together and give them one common name foe easy analysis"
   ]
  },
  {
   "cell_type": "code",
   "execution_count": 12,
   "metadata": {},
   "outputs": [
    {
     "data": {
      "text/html": [
       "<div>\n",
       "<style scoped>\n",
       "    .dataframe tbody tr th:only-of-type {\n",
       "        vertical-align: middle;\n",
       "    }\n",
       "\n",
       "    .dataframe tbody tr th {\n",
       "        vertical-align: top;\n",
       "    }\n",
       "\n",
       "    .dataframe thead th {\n",
       "        text-align: right;\n",
       "    }\n",
       "</style>\n",
       "<table border=\"1\" class=\"dataframe\">\n",
       "  <thead>\n",
       "    <tr style=\"text-align: right;\">\n",
       "      <th></th>\n",
       "      <th>Company_Brand</th>\n",
       "      <th>Sector</th>\n",
       "      <th>Stage</th>\n",
       "      <th>Amount</th>\n",
       "      <th>HeadQuarter</th>\n",
       "      <th>BIO</th>\n",
       "      <th>Year</th>\n",
       "    </tr>\n",
       "  </thead>\n",
       "  <tbody>\n",
       "    <tr>\n",
       "      <th>0</th>\n",
       "      <td>TheCollegeFever</td>\n",
       "      <td>Brand Marketing, Event Promotion, Marketing, S...</td>\n",
       "      <td>Seed</td>\n",
       "      <td>250000</td>\n",
       "      <td>Bangalore, Karnataka, India</td>\n",
       "      <td>TheCollegeFever is a hub for fun, fiesta and f...</td>\n",
       "      <td>2018</td>\n",
       "    </tr>\n",
       "    <tr>\n",
       "      <th>1</th>\n",
       "      <td>Happy Cow Dairy</td>\n",
       "      <td>Agriculture, Farming</td>\n",
       "      <td>Seed</td>\n",
       "      <td>₹40,000,000</td>\n",
       "      <td>Mumbai, Maharashtra, India</td>\n",
       "      <td>A startup which aggregates milk from dairy far...</td>\n",
       "      <td>2018</td>\n",
       "    </tr>\n",
       "    <tr>\n",
       "      <th>2</th>\n",
       "      <td>MyLoanCare</td>\n",
       "      <td>Credit, Financial Services, Lending, Marketplace</td>\n",
       "      <td>Series A</td>\n",
       "      <td>₹65,000,000</td>\n",
       "      <td>Gurgaon, Haryana, India</td>\n",
       "      <td>Leading Online Loans Marketplace in India</td>\n",
       "      <td>2018</td>\n",
       "    </tr>\n",
       "    <tr>\n",
       "      <th>3</th>\n",
       "      <td>PayMe India</td>\n",
       "      <td>Financial Services, FinTech</td>\n",
       "      <td>Angel</td>\n",
       "      <td>2000000</td>\n",
       "      <td>Noida, Uttar Pradesh, India</td>\n",
       "      <td>PayMe India is an innovative FinTech organizat...</td>\n",
       "      <td>2018</td>\n",
       "    </tr>\n",
       "    <tr>\n",
       "      <th>4</th>\n",
       "      <td>Eunimart</td>\n",
       "      <td>E-Commerce Platforms, Retail, SaaS</td>\n",
       "      <td>Seed</td>\n",
       "      <td>—</td>\n",
       "      <td>Hyderabad, Andhra Pradesh, India</td>\n",
       "      <td>Eunimart is a one stop solution for merchants ...</td>\n",
       "      <td>2018</td>\n",
       "    </tr>\n",
       "  </tbody>\n",
       "</table>\n",
       "</div>"
      ],
      "text/plain": [
       "     Company_Brand                                             Sector  \\\n",
       "0  TheCollegeFever  Brand Marketing, Event Promotion, Marketing, S...   \n",
       "1  Happy Cow Dairy                               Agriculture, Farming   \n",
       "2       MyLoanCare   Credit, Financial Services, Lending, Marketplace   \n",
       "3      PayMe India                        Financial Services, FinTech   \n",
       "4         Eunimart                 E-Commerce Platforms, Retail, SaaS   \n",
       "\n",
       "      Stage       Amount                       HeadQuarter  \\\n",
       "0      Seed       250000       Bangalore, Karnataka, India   \n",
       "1      Seed  ₹40,000,000        Mumbai, Maharashtra, India   \n",
       "2  Series A  ₹65,000,000           Gurgaon, Haryana, India   \n",
       "3     Angel      2000000       Noida, Uttar Pradesh, India   \n",
       "4      Seed            —  Hyderabad, Andhra Pradesh, India   \n",
       "\n",
       "                                                 BIO  Year  \n",
       "0  TheCollegeFever is a hub for fun, fiesta and f...  2018  \n",
       "1  A startup which aggregates milk from dairy far...  2018  \n",
       "2          Leading Online Loans Marketplace in India  2018  \n",
       "3  PayMe India is an innovative FinTech organizat...  2018  \n",
       "4  Eunimart is a one stop solution for merchants ...  2018  "
      ]
     },
     "execution_count": 12,
     "metadata": {},
     "output_type": "execute_result"
    }
   ],
   "source": [
    "data_2018.head()"
   ]
  },
  {
   "cell_type": "markdown",
   "metadata": {},
   "source": [
    "<b>Harmonising the HeadQuater/Location column entries in 2018&2019 data.<b>"
   ]
  },
  {
   "cell_type": "markdown",
   "metadata": {},
   "source": [
    "some of the locations  in the headquarter  has spelling error, some are the same location with different names while some are outside india so he group them and give them common name for easy analysis "
   ]
  },
  {
   "cell_type": "code",
   "execution_count": 13,
   "metadata": {},
   "outputs": [],
   "source": [
    "# code to sparete the headquarters in 2018 because the columns contain more than one headquarter which will affect the analysis\n",
    "data_2018_new=data_2018['HeadQuarter'].str.split(pat=',', n=1, expand=True) \n",
    "data_2018['Head']=data_2018_new[0]"
   ]
  },
  {
   "cell_type": "code",
   "execution_count": 14,
   "metadata": {},
   "outputs": [],
   "source": [
    "# drop headquarter column\n",
    "data_2018.drop(['HeadQuarter'], axis=1, inplace=True)\n",
    "# rename the head column\n",
    "data_2018.rename(columns={'Head':'HeadQuarter'}, inplace=True)"
   ]
  },
  {
   "cell_type": "code",
   "execution_count": 15,
   "metadata": {},
   "outputs": [],
   "source": [
    "# data cleaning of headquarter in 2018\n",
    "data_2018.replace(to_replace=['Bangalore City','Bangalore'], value='Bangalore', inplace=True)\n",
    "data_2018.replace(to_replace=['Delhi','New Delhi'], value='Delhi', inplace=True)\n",
    "data_2018.replace(to_replace=['Cochin'], value='Kochi', inplace=True)\n",
    "data_2018.replace(to_replace=['Kormangala'], value='Koramangala', inplace=True)\n",
    "data_2018.replace(to_replace=['Powai','Worli'], value='Mumbai', inplace=True)\n",
    "data_2018.replace(to_replace=['Uttar Pradesh', 'Andhra Pradesh'], value='Andhra Pradesh', inplace=True)\n",
    "data_2018.replace(to_replace=['Trivandrum', 'India'], value='Trivandrum', inplace=True)\n",
    "\n",
    "\n",
    "# data cleaning of headquarter in 2019\n",
    "data_2019.replace(to_replace=['Delhi','New Delhi'], value='Delhi', inplace=True)"
   ]
  },
  {
   "cell_type": "markdown",
   "metadata": {},
   "source": [
    "<b>CHECK FOR DUPLICATE ENTRIES IN THE NEW DATASET df2018 & df2019<b>"
   ]
  },
  {
   "cell_type": "code",
   "execution_count": 16,
   "metadata": {},
   "outputs": [
    {
     "data": {
      "text/plain": [
       "False    525\n",
       "True       1\n",
       "dtype: int64"
      ]
     },
     "execution_count": 16,
     "metadata": {},
     "output_type": "execute_result"
    }
   ],
   "source": [
    "# check for duplicates\n",
    "data_2018.duplicated().value_counts()"
   ]
  },
  {
   "cell_type": "code",
   "execution_count": 17,
   "metadata": {},
   "outputs": [],
   "source": [
    "# drop the duplicates\n",
    "data_2018.drop_duplicates(keep='first', inplace=True)"
   ]
  },
  {
   "cell_type": "code",
   "execution_count": 18,
   "metadata": {},
   "outputs": [
    {
     "data": {
      "text/plain": [
       "False    89\n",
       "dtype: int64"
      ]
     },
     "execution_count": 18,
     "metadata": {},
     "output_type": "execute_result"
    }
   ],
   "source": [
    "data_2019.duplicated().value_counts()"
   ]
  },
  {
   "cell_type": "markdown",
   "metadata": {},
   "source": [
    "# Step 3 "
   ]
  },
  {
   "cell_type": "markdown",
   "metadata": {},
   "source": [
    "Merging 2018 & 2019 and Checking for currency"
   ]
  },
  {
   "cell_type": "markdown",
   "metadata": {},
   "source": [
    "In the currency colunn in 2018 and 2019 some amount are in  Dollar, some are in Rupee while sum are just numeric so we converted all of them to Dollar for easy analysis"
   ]
  },
  {
   "cell_type": "code",
   "execution_count": 19,
   "metadata": {},
   "outputs": [],
   "source": [
    "# Merge the two csv files \n",
    "\n",
    "data_18_19 = pd.concat([data_2018, data_2019], ignore_index=True)"
   ]
  },
  {
   "cell_type": "code",
   "execution_count": 20,
   "metadata": {},
   "outputs": [],
   "source": [
    "# # # Assuming exchange rate is: 4 INR = 0.012 USD)\n",
    " \n",
    "\n",
    "# # Create a new column 'currency' based on currency symbols\n",
    "\n",
    "data_18_19['currency'] = data_18_19['Amount'].apply(lambda x: 'INR' if '₹' in x else ('USD' if '$' in x else 'USD'))\n",
    "\n",
    "# # # Create columns 'amount_inr' and 'amount_usd'\n",
    "\n",
    "data_18_19['amount_inr'] = data_18_19.apply(lambda row: row['Amount'] if row['currency'] == 'INR' else 0, axis=1)\n",
    "data_18_19['amount_usd'] = data_18_19.apply(lambda row: row['Amount'] if row['currency'] == 'USD' else 0, axis=1)\n",
    "\n",
    "# # # Remove the currency sysmbols and the commas \n",
    "\n",
    "data_18_19['amount_inr'] = data_18_19['amount_inr'].str.replace('₹', '').str.replace('$', '').str.replace(',', '')\n",
    "data_18_19['amount_usd'] = data_18_19['amount_usd'].str.replace('₹', '').str.replace('$', '').str.replace(',', '')\n",
    "\n",
    "# # # Replace 'Undisclosed' values with NaN\n",
    "\n",
    "data_18_19['amount_inr'] = data_18_19['amount_inr'].replace('Undisclosed', np.nan, regex=True)\n",
    "data_18_19['amount_usd'] = data_18_19['amount_usd'].replace('Undisclosed', np.nan, regex=True)\n",
    "\n",
    "# # # Convert the object values into numeric values for calculation\n",
    "\n",
    "data_18_19['amount_inr'] = pd.to_numeric(data_18_19['amount_inr'], errors='coerce')\n",
    "data_18_19['amount_usd'] = pd.to_numeric(data_18_19['amount_usd'], errors='coerce')\n",
    "\n",
    "\n",
    "\n",
    "\n",
    "\n",
    "# # Create a new column 'Updated_Amount' by filling missing values in 'amount_inr' with 'amount_usd'\n",
    "data_18_19['Updated_Amount'] = data_18_19['amount_inr'].fillna(data_18_19['amount_usd'])"
   ]
  },
  {
   "cell_type": "code",
   "execution_count": 21,
   "metadata": {},
   "outputs": [
    {
     "data": {
      "text/html": [
       "<div>\n",
       "<style scoped>\n",
       "    .dataframe tbody tr th:only-of-type {\n",
       "        vertical-align: middle;\n",
       "    }\n",
       "\n",
       "    .dataframe tbody tr th {\n",
       "        vertical-align: top;\n",
       "    }\n",
       "\n",
       "    .dataframe thead th {\n",
       "        text-align: right;\n",
       "    }\n",
       "</style>\n",
       "<table border=\"1\" class=\"dataframe\">\n",
       "  <thead>\n",
       "    <tr style=\"text-align: right;\">\n",
       "      <th></th>\n",
       "      <th>Company_Brand</th>\n",
       "      <th>Sector</th>\n",
       "      <th>Stage</th>\n",
       "      <th>Amount</th>\n",
       "      <th>BIO</th>\n",
       "      <th>Year</th>\n",
       "      <th>HeadQuarter</th>\n",
       "      <th>currency</th>\n",
       "      <th>amount_inr</th>\n",
       "      <th>amount_usd</th>\n",
       "      <th>Updated_Amount</th>\n",
       "    </tr>\n",
       "  </thead>\n",
       "  <tbody>\n",
       "    <tr>\n",
       "      <th>0</th>\n",
       "      <td>TheCollegeFever</td>\n",
       "      <td>Brand Marketing, Event Promotion, Marketing, S...</td>\n",
       "      <td>Seed</td>\n",
       "      <td>250000</td>\n",
       "      <td>TheCollegeFever is a hub for fun, fiesta and f...</td>\n",
       "      <td>2018</td>\n",
       "      <td>Bangalore</td>\n",
       "      <td>USD</td>\n",
       "      <td>NaN</td>\n",
       "      <td>250000.0</td>\n",
       "      <td>250000.0</td>\n",
       "    </tr>\n",
       "    <tr>\n",
       "      <th>1</th>\n",
       "      <td>Happy Cow Dairy</td>\n",
       "      <td>Agriculture, Farming</td>\n",
       "      <td>Seed</td>\n",
       "      <td>₹40,000,000</td>\n",
       "      <td>A startup which aggregates milk from dairy far...</td>\n",
       "      <td>2018</td>\n",
       "      <td>Mumbai</td>\n",
       "      <td>INR</td>\n",
       "      <td>40000000.0</td>\n",
       "      <td>NaN</td>\n",
       "      <td>40000000.0</td>\n",
       "    </tr>\n",
       "    <tr>\n",
       "      <th>2</th>\n",
       "      <td>MyLoanCare</td>\n",
       "      <td>Credit, Financial Services, Lending, Marketplace</td>\n",
       "      <td>Series A</td>\n",
       "      <td>₹65,000,000</td>\n",
       "      <td>Leading Online Loans Marketplace in India</td>\n",
       "      <td>2018</td>\n",
       "      <td>Gurgaon</td>\n",
       "      <td>INR</td>\n",
       "      <td>65000000.0</td>\n",
       "      <td>NaN</td>\n",
       "      <td>65000000.0</td>\n",
       "    </tr>\n",
       "    <tr>\n",
       "      <th>3</th>\n",
       "      <td>PayMe India</td>\n",
       "      <td>Financial Services, FinTech</td>\n",
       "      <td>Angel</td>\n",
       "      <td>2000000</td>\n",
       "      <td>PayMe India is an innovative FinTech organizat...</td>\n",
       "      <td>2018</td>\n",
       "      <td>Noida</td>\n",
       "      <td>USD</td>\n",
       "      <td>NaN</td>\n",
       "      <td>2000000.0</td>\n",
       "      <td>2000000.0</td>\n",
       "    </tr>\n",
       "    <tr>\n",
       "      <th>4</th>\n",
       "      <td>Eunimart</td>\n",
       "      <td>E-Commerce Platforms, Retail, SaaS</td>\n",
       "      <td>Seed</td>\n",
       "      <td>—</td>\n",
       "      <td>Eunimart is a one stop solution for merchants ...</td>\n",
       "      <td>2018</td>\n",
       "      <td>Hyderabad</td>\n",
       "      <td>USD</td>\n",
       "      <td>NaN</td>\n",
       "      <td>NaN</td>\n",
       "      <td>NaN</td>\n",
       "    </tr>\n",
       "  </tbody>\n",
       "</table>\n",
       "</div>"
      ],
      "text/plain": [
       "     Company_Brand                                             Sector  \\\n",
       "0  TheCollegeFever  Brand Marketing, Event Promotion, Marketing, S...   \n",
       "1  Happy Cow Dairy                               Agriculture, Farming   \n",
       "2       MyLoanCare   Credit, Financial Services, Lending, Marketplace   \n",
       "3      PayMe India                        Financial Services, FinTech   \n",
       "4         Eunimart                 E-Commerce Platforms, Retail, SaaS   \n",
       "\n",
       "      Stage       Amount                                                BIO  \\\n",
       "0      Seed       250000  TheCollegeFever is a hub for fun, fiesta and f...   \n",
       "1      Seed  ₹40,000,000  A startup which aggregates milk from dairy far...   \n",
       "2  Series A  ₹65,000,000          Leading Online Loans Marketplace in India   \n",
       "3     Angel      2000000  PayMe India is an innovative FinTech organizat...   \n",
       "4      Seed            —  Eunimart is a one stop solution for merchants ...   \n",
       "\n",
       "   Year HeadQuarter currency  amount_inr  amount_usd  Updated_Amount  \n",
       "0  2018   Bangalore      USD         NaN    250000.0        250000.0  \n",
       "1  2018      Mumbai      INR  40000000.0         NaN      40000000.0  \n",
       "2  2018     Gurgaon      INR  65000000.0         NaN      65000000.0  \n",
       "3  2018       Noida      USD         NaN   2000000.0       2000000.0  \n",
       "4  2018   Hyderabad      USD         NaN         NaN             NaN  "
      ]
     },
     "execution_count": 21,
     "metadata": {},
     "output_type": "execute_result"
    }
   ],
   "source": [
    "data_18_19.head()"
   ]
  },
  {
   "cell_type": "code",
   "execution_count": 22,
   "metadata": {},
   "outputs": [],
   "source": [
    "data_18_19.drop(['currency', 'amount_inr','amount_usd','Amount'], axis=1, inplace=True)"
   ]
  },
  {
   "cell_type": "code",
   "execution_count": 23,
   "metadata": {},
   "outputs": [],
   "source": [
    "# # Rename the updated_ amount column to amount \n",
    "data_18_19.rename(columns={'Updated_Amount':'Amount($)'}, inplace=True )"
   ]
  },
  {
   "cell_type": "code",
   "execution_count": 24,
   "metadata": {},
   "outputs": [
    {
     "data": {
      "text/html": [
       "<div>\n",
       "<style scoped>\n",
       "    .dataframe tbody tr th:only-of-type {\n",
       "        vertical-align: middle;\n",
       "    }\n",
       "\n",
       "    .dataframe tbody tr th {\n",
       "        vertical-align: top;\n",
       "    }\n",
       "\n",
       "    .dataframe thead th {\n",
       "        text-align: right;\n",
       "    }\n",
       "</style>\n",
       "<table border=\"1\" class=\"dataframe\">\n",
       "  <thead>\n",
       "    <tr style=\"text-align: right;\">\n",
       "      <th></th>\n",
       "      <th>Company_Brand</th>\n",
       "      <th>Sector</th>\n",
       "      <th>Stage</th>\n",
       "      <th>BIO</th>\n",
       "      <th>Year</th>\n",
       "      <th>HeadQuarter</th>\n",
       "      <th>Amount($)</th>\n",
       "    </tr>\n",
       "  </thead>\n",
       "  <tbody>\n",
       "    <tr>\n",
       "      <th>0</th>\n",
       "      <td>TheCollegeFever</td>\n",
       "      <td>Brand Marketing, Event Promotion, Marketing, S...</td>\n",
       "      <td>Seed</td>\n",
       "      <td>TheCollegeFever is a hub for fun, fiesta and f...</td>\n",
       "      <td>2018</td>\n",
       "      <td>Bangalore</td>\n",
       "      <td>250000.0</td>\n",
       "    </tr>\n",
       "    <tr>\n",
       "      <th>1</th>\n",
       "      <td>Happy Cow Dairy</td>\n",
       "      <td>Agriculture, Farming</td>\n",
       "      <td>Seed</td>\n",
       "      <td>A startup which aggregates milk from dairy far...</td>\n",
       "      <td>2018</td>\n",
       "      <td>Mumbai</td>\n",
       "      <td>40000000.0</td>\n",
       "    </tr>\n",
       "  </tbody>\n",
       "</table>\n",
       "</div>"
      ],
      "text/plain": [
       "     Company_Brand                                             Sector Stage  \\\n",
       "0  TheCollegeFever  Brand Marketing, Event Promotion, Marketing, S...  Seed   \n",
       "1  Happy Cow Dairy                               Agriculture, Farming  Seed   \n",
       "\n",
       "                                                 BIO  Year HeadQuarter  \\\n",
       "0  TheCollegeFever is a hub for fun, fiesta and f...  2018   Bangalore   \n",
       "1  A startup which aggregates milk from dairy far...  2018      Mumbai   \n",
       "\n",
       "    Amount($)  \n",
       "0    250000.0  \n",
       "1  40000000.0  "
      ]
     },
     "execution_count": 24,
     "metadata": {},
     "output_type": "execute_result"
    }
   ],
   "source": [
    "data_18_19.head(2)"
   ]
  },
  {
   "cell_type": "code",
   "execution_count": 25,
   "metadata": {},
   "outputs": [
    {
     "data": {
      "text/plain": [
       "False    614\n",
       "dtype: int64"
      ]
     },
     "execution_count": 25,
     "metadata": {},
     "output_type": "execute_result"
    }
   ],
   "source": [
    "# checking for duplicates\n",
    "data_18_19.duplicated().value_counts()"
   ]
  },
  {
   "cell_type": "code",
   "execution_count": 26,
   "metadata": {},
   "outputs": [],
   "source": [
    "# drop duplicates\n",
    "data_18_19.drop_duplicates(keep='first', inplace=True)"
   ]
  },
  {
   "cell_type": "code",
   "execution_count": 27,
   "metadata": {},
   "outputs": [
    {
     "data": {
      "text/html": [
       "<div>\n",
       "<style scoped>\n",
       "    .dataframe tbody tr th:only-of-type {\n",
       "        vertical-align: middle;\n",
       "    }\n",
       "\n",
       "    .dataframe tbody tr th {\n",
       "        vertical-align: top;\n",
       "    }\n",
       "\n",
       "    .dataframe thead th {\n",
       "        text-align: right;\n",
       "    }\n",
       "</style>\n",
       "<table border=\"1\" class=\"dataframe\">\n",
       "  <thead>\n",
       "    <tr style=\"text-align: right;\">\n",
       "      <th></th>\n",
       "      <th>Company_Brand</th>\n",
       "      <th>Sector</th>\n",
       "      <th>Stage</th>\n",
       "      <th>BIO</th>\n",
       "      <th>Year</th>\n",
       "      <th>HeadQuarter</th>\n",
       "      <th>Amount($)</th>\n",
       "    </tr>\n",
       "  </thead>\n",
       "  <tbody>\n",
       "    <tr>\n",
       "      <th>0</th>\n",
       "      <td>TheCollegeFever</td>\n",
       "      <td>Brand Marketing, Event Promotion, Marketing, S...</td>\n",
       "      <td>Seed</td>\n",
       "      <td>TheCollegeFever is a hub for fun, fiesta and f...</td>\n",
       "      <td>2018</td>\n",
       "      <td>Bangalore</td>\n",
       "      <td>250000.0</td>\n",
       "    </tr>\n",
       "    <tr>\n",
       "      <th>1</th>\n",
       "      <td>Happy Cow Dairy</td>\n",
       "      <td>Agriculture, Farming</td>\n",
       "      <td>Seed</td>\n",
       "      <td>A startup which aggregates milk from dairy far...</td>\n",
       "      <td>2018</td>\n",
       "      <td>Mumbai</td>\n",
       "      <td>40000000.0</td>\n",
       "    </tr>\n",
       "    <tr>\n",
       "      <th>2</th>\n",
       "      <td>MyLoanCare</td>\n",
       "      <td>Credit, Financial Services, Lending, Marketplace</td>\n",
       "      <td>Series A</td>\n",
       "      <td>Leading Online Loans Marketplace in India</td>\n",
       "      <td>2018</td>\n",
       "      <td>Gurgaon</td>\n",
       "      <td>65000000.0</td>\n",
       "    </tr>\n",
       "    <tr>\n",
       "      <th>3</th>\n",
       "      <td>PayMe India</td>\n",
       "      <td>Financial Services, FinTech</td>\n",
       "      <td>Angel</td>\n",
       "      <td>PayMe India is an innovative FinTech organizat...</td>\n",
       "      <td>2018</td>\n",
       "      <td>Noida</td>\n",
       "      <td>2000000.0</td>\n",
       "    </tr>\n",
       "    <tr>\n",
       "      <th>4</th>\n",
       "      <td>Eunimart</td>\n",
       "      <td>E-Commerce Platforms, Retail, SaaS</td>\n",
       "      <td>Seed</td>\n",
       "      <td>Eunimart is a one stop solution for merchants ...</td>\n",
       "      <td>2018</td>\n",
       "      <td>Hyderabad</td>\n",
       "      <td>NaN</td>\n",
       "    </tr>\n",
       "  </tbody>\n",
       "</table>\n",
       "</div>"
      ],
      "text/plain": [
       "     Company_Brand                                             Sector  \\\n",
       "0  TheCollegeFever  Brand Marketing, Event Promotion, Marketing, S...   \n",
       "1  Happy Cow Dairy                               Agriculture, Farming   \n",
       "2       MyLoanCare   Credit, Financial Services, Lending, Marketplace   \n",
       "3      PayMe India                        Financial Services, FinTech   \n",
       "4         Eunimart                 E-Commerce Platforms, Retail, SaaS   \n",
       "\n",
       "      Stage                                                BIO  Year  \\\n",
       "0      Seed  TheCollegeFever is a hub for fun, fiesta and f...  2018   \n",
       "1      Seed  A startup which aggregates milk from dairy far...  2018   \n",
       "2  Series A          Leading Online Loans Marketplace in India  2018   \n",
       "3     Angel  PayMe India is an innovative FinTech organizat...  2018   \n",
       "4      Seed  Eunimart is a one stop solution for merchants ...  2018   \n",
       "\n",
       "  HeadQuarter   Amount($)  \n",
       "0   Bangalore    250000.0  \n",
       "1      Mumbai  40000000.0  \n",
       "2     Gurgaon  65000000.0  \n",
       "3       Noida   2000000.0  \n",
       "4   Hyderabad         NaN  "
      ]
     },
     "execution_count": 27,
     "metadata": {},
     "output_type": "execute_result"
    }
   ],
   "source": [
    "data_18_19.head()"
   ]
  },
  {
   "cell_type": "code",
   "execution_count": null,
   "metadata": {},
   "outputs": [],
   "source": []
  },
  {
   "cell_type": "markdown",
   "metadata": {},
   "source": [
    "# Step 4"
   ]
  },
  {
   "cell_type": "markdown",
   "metadata": {},
   "source": [
    "Cleaning and concating the two SQL file 2020 & 2021"
   ]
  },
  {
   "cell_type": "code",
   "execution_count": 28,
   "metadata": {},
   "outputs": [],
   "source": [
    "# Renaming the Column to have the same column names for all the tables\n",
    "\n",
    "data_2020 = data_2020.rename(columns={'Company_Brand': 'Company_Brand', 'Sector': 'Sector', 'Amount': 'Amount', 'What_it_does': 'BIO', 'Location':'HeadQuarter'})\n",
    "data_2021 = data_2021.rename(columns={'Company_Brand': 'Company_Brand', 'Sector': 'Sector', 'Amount': 'Amount', 'What_it_does': 'BIO', 'HeadQuarter':'HeadQuarter'})"
   ]
  },
  {
   "cell_type": "markdown",
   "metadata": {},
   "source": [
    "<b> Drop some columns that might not be needed for the analysis like founded, founders, investors and column10 which is not also included in 2018 file <b>"
   ]
  },
  {
   "cell_type": "code",
   "execution_count": 29,
   "metadata": {},
   "outputs": [],
   "source": [
    "# we drop some columns we will not use for the analysis and does not ryme with the 2018 data\n",
    "data_2020.drop(['Founded', 'Founders', 'Investor'], axis=1, inplace=True)\n",
    "data_2021.drop(['Founded', 'Founders', 'Investor'], axis=1, inplace=True)\n",
    "data_2020.drop(columns=['column10'], inplace=True)"
   ]
  },
  {
   "cell_type": "markdown",
   "metadata": {},
   "source": [
    "<b>Harmonising the HeadQuarter column entries in 2020&2021 data.<b>"
   ]
  },
  {
   "cell_type": "code",
   "execution_count": 30,
   "metadata": {},
   "outputs": [],
   "source": [
    "\n",
    "#  cleaning of HeadQuater 2020\n",
    "data_2020.replace(to_replace=['Bangalore City','Bangalore'], value='Bangalore', inplace=True)\n",
    "data_2020.replace(to_replace=['Delhi','New Delhi'], value='Delhi', inplace=True)\n",
    "data_2020.replace(to_replace=['Ahmadabad'], value='Ahmedabad', inplace=True)\n",
    "data_2020.replace(to_replace=['Kochi'], value='Cochin', inplace=True)\n",
    "data_2020.replace(to_replace=['Kormangala'], value='Koramangala', inplace=True)\n",
    "data_2020.replace(to_replace=['Rajastan'], value='Rajasthan', inplace=True)\n",
    "data_2020.replace(to_replace=['Powai','Worli'], value='Mumbai', inplace=True)\n",
    "data_2020.replace(to_replace=['Small Towns', 'Andhra Pradesh','Uttar Pradesh'], value='Andhra Pradesh', inplace=True)\n",
    "data_2020.replace(to_replace=['Hyderebad'], value='Hyderabad', inplace=True)\n",
    "data_2020.replace(to_replace=['Gurugram\\t#REF!'], value='Gurugram', inplace=True)\n",
    "data_2020.replace(to_replace=['Orissia'], value='Orissa', inplace=True)\n",
    "data_2020.replace(to_replace=['Samstipur','Samastipur, Bihar','Samsitpur'], value='Samastipur', inplace=True)\n",
    "data_2020.replace(to_replace=['The Nilgiris'], value='Nilgiris', inplace=True)\n",
    "data_2020.replace(to_replace=['Dhindsara', 'Haryana','Dhingsara, Haryana'], value='Dhingsara', inplace=True)\n",
    "data_2020.replace(to_replace=['Tirunelveli', 'Tamilnadu'], value='Tirunelveli', inplace=True)\n",
    "data_2020.replace(to_replace=['Mylapore'], value='Chennai', inplace=True)\n",
    "data_2020.replace(to_replace=['Rajastan'], value='Rajasthan', inplace=True)\n",
    "data_2020.replace(to_replace=['Trivandrum', 'Kerala, India'], value='Trivandrum', inplace=True)\n",
    "\n",
    "\n",
    "#  Renaming some of the headquarters the are not in India to outside india in data 2020\n",
    "data_2020.replace(to_replace=['Frisco', 'France','Newcastle Upon Tyne, Newcastle upon Tyne, United Kingdom',\n",
    "                              'Frisco, Texas, United States','Irvine, California, United States',\n",
    "                              'San Francisco Bay Area, West Coast, Western US','Texas, United States','California',\n",
    "                              'New York, United States','San Francisco, California, United States','San Francisco, United States',\n",
    "                              'San Ramon, California','Paris, Ile-de-France, France','Plano, Texas, United States','Sydney',\n",
    "                              'San Francisco Bay Area, Silicon Valley, West Coast','Bangaldesh','London, England, United Kingdom','Sydney, New South Wales, Australia',\n",
    "                              'Milano, Lombardia, Italy','Palmwoods, Queensland, Australia', 'France''Irvine, California, United States',\n",
    "                              'Newcastle Upon Tyne, Newcastle upon Tyne United Kingdom','Shanghai, China','Jiaxing, Zhejiang, China',\n",
    "                              'San Franciscao','San Francisco','New York'], value = 'Outside India', inplace=True)\n",
    "\n",
    "\n",
    "# filling of missing headquarters in 2020\n",
    "data_2020['HeadQuarter'].fillna('Undisclosed', inplace=True)"
   ]
  },
  {
   "cell_type": "code",
   "execution_count": 31,
   "metadata": {},
   "outputs": [
    {
     "data": {
      "text/plain": [
       "array(['Chennai', 'Bangalore', 'Pune', 'Delhi', 'Indore', 'Hyderabad',\n",
       "       'Gurgaon', 'Belgaum', 'Noida', 'Mumbai', 'Andheri', 'Jaipur',\n",
       "       'Ahmedabad', 'Kolkata', 'Tirunelveli, Tamilnadu', 'Thane',\n",
       "       'Undisclosed', 'Singapore', 'Gurugram', 'Gujarat', 'Dhingsara',\n",
       "       'Kerala', 'Jodhpur', 'Jaipur, Rajastan', 'Outside India', 'Patna',\n",
       "       'Trivandrum, Kerala, India', 'Cochin', 'Samastipur',\n",
       "       'Tumkur, Karnataka', 'Rajasthan', 'Ludhiana', 'Dehradun',\n",
       "       'Tangerang, Jawa Barat, Indonesia', 'Berlin', 'Seattle', 'Riyadh',\n",
       "       'Seoul', 'Bangkok', 'Kanpur', 'Chandigarh', 'Warangal', 'Odisha',\n",
       "       'Bihar', 'Goa', 'Tamil Nadu', 'Andhra Pradesh', 'Bhopal',\n",
       "       'Banglore', 'Coimbatore', 'Bengaluru'], dtype=object)"
      ]
     },
     "execution_count": 31,
     "metadata": {},
     "output_type": "execute_result"
    }
   ],
   "source": [
    "data_2020['HeadQuarter'].unique()"
   ]
  },
  {
   "cell_type": "code",
   "execution_count": 32,
   "metadata": {},
   "outputs": [],
   "source": [
    "#  cleaning of HeadQuater 2021\n",
    "data_2021.replace(to_replace=['Bangalore City','Bangalore'], value='Bangalore', inplace=True)\n",
    "data_2021.replace(to_replace=['Delhi','New Delhi'], value='Delhi', inplace=True)\n",
    "data_2021.replace(to_replace=['Ahmadabad'], value='Ahmedabad', inplace=True)\n",
    "data_2021.replace(to_replace=['Kochi'], value='Cochin', inplace=True)\n",
    "data_2021.replace(to_replace=['Kormangala'], value='Koramangala', inplace=True)\n",
    "data_2021.replace(to_replace=['Rajastan'], value='Rajasthan', inplace=True)\n",
    "data_2021.replace(to_replace=['Powai','Worli'], value='Mumbai', inplace=True)\n",
    "data_2021.replace(to_replace=['Small Towns', 'Andhra Pradesh'], value='Andhra Pradesh', inplace=True)\n",
    "data_2021.replace(to_replace=['Hyderebad'], value='Hyderabad', inplace=True)\n",
    "data_2021.replace(to_replace=['Gurugram\\t#REF!'], value='Gurugram', inplace=True)\n",
    "data_2021.replace(to_replace=['The Nilgiris'], value='Nilgiris', inplace=True)\n",
    "data_2021.replace(to_replace=['Dhindsara', 'Haryana','Dhingsara, Haryana'], value='Dhingsara', inplace=True)\n",
    "data_2021.replace(to_replace=['Tirunelveli, Tamilnadu'], value='Tirunelveli', inplace=True)\n",
    "data_2021.replace(to_replace=['Mylapore'], value='Chennai', inplace=True)\n",
    "data_2021.replace(to_replace=['Rajastan'], value='Rajasthan', inplace=True)\n",
    "data_2021.replace(to_replace=['Trivandrum', 'Kerala', 'India'], value='Trivandrum', inplace=True)\n",
    "data_2021.replace(to_replace=['unknown'], value='Undisclosed', inplace=True)\n",
    "\n",
    "\n",
    "\n",
    "#  Renaming some of the headquarters the are not in India to outside india in data 2020\n",
    "data_2021.replace(to_replace=['London', 'New York', ' Mountain View', 'CA ', 'Beijing', '' ], value='Outside_India', inplace=True)\n",
    "data_2021.replace(to_replace=['Online Media\\t#REF!', 'Pharmaceuticals\\t#REF!', 'Food & Beverages', \n",
    "                             'Computer Games', 'Small Towns', ' None', 'None', 'Information Technology & Services'], value='Undisclosed', inplace=True)\n",
    "data_2021.replace(to_replace=['Gurugram\\t#REF!' ], value='Gurugrama', inplace=True)\n",
    "\n",
    "data_2021['HeadQuarter'].fillna('Undisclosed', inplace=True)"
   ]
  },
  {
   "cell_type": "code",
   "execution_count": 33,
   "metadata": {},
   "outputs": [
    {
     "data": {
      "text/plain": [
       "array(['Bangalore', 'Mumbai', 'Gurugram', 'Delhi', 'Hyderabad', 'Jaipur',\n",
       "       'Ahmedabad', 'Chennai', 'Undisclosed',\n",
       "       'Small Towns, Andhra Pradesh', 'Goa', 'Rajsamand', 'Ranchi',\n",
       "       'Faridabad, Haryana', 'Gujarat', 'Pune', 'Thane', 'Cochin',\n",
       "       'Noida', 'Chandigarh', 'Gurgaon', 'Vadodara', 'Kolkata', 'Mohali',\n",
       "       'Dhingsara', 'Indore', 'Ghaziabad', 'Nagpur', 'West Bengal',\n",
       "       'Patna', 'Samsitpur', 'Lucknow', 'Telangana', 'Silvassa',\n",
       "       'Thiruvananthapuram', 'Faridabad', 'Roorkee', 'Ambernath',\n",
       "       'Panchkula', 'Surat', 'Coimbatore', 'Andheri', 'Mangalore',\n",
       "       'Telugana', 'Bhubaneswar', 'Kottayam', 'Outside_India', 'Panaji',\n",
       "       'Satara', 'Orissia', 'Jodhpur', 'Santra', 'Mountain View, CA',\n",
       "       'Trivandrum', 'Jharkhand', 'Kanpur', 'Bhilwara', 'Guwahati',\n",
       "       'Nilgiris', 'Gandhinagar'], dtype=object)"
      ]
     },
     "execution_count": 33,
     "metadata": {},
     "output_type": "execute_result"
    }
   ],
   "source": [
    "# checking for the uniquness of headquarter column\n",
    "data_2021['HeadQuarter'].unique()"
   ]
  },
  {
   "cell_type": "markdown",
   "metadata": {},
   "source": [
    "<b>CHECK FOR DUPLICATE ENTRIES IN THE NEW DATASET df2020 & df2021<b>"
   ]
  },
  {
   "cell_type": "markdown",
   "metadata": {},
   "source": [
    "# Step 5"
   ]
  },
  {
   "cell_type": "markdown",
   "metadata": {},
   "source": [
    "<b> Currency Conversion<b>"
   ]
  },
  {
   "cell_type": "code",
   "execution_count": 34,
   "metadata": {},
   "outputs": [],
   "source": [
    "# Merge the two sql files \n",
    "\n",
    "df20_21 = pd.concat([data_2020, data_2021], ignore_index=True)"
   ]
  },
  {
   "cell_type": "code",
   "execution_count": 35,
   "metadata": {},
   "outputs": [],
   "source": [
    "# # Create a new column 'Updated_Amount' by filling missing values in 'amount_inr' with 'amount_usd'\n",
    "\n",
    "df20_21['Updated_Amount'] = df20_21['Amount']"
   ]
  },
  {
   "cell_type": "code",
   "execution_count": 36,
   "metadata": {},
   "outputs": [],
   "source": [
    "# # Create a column 'with_$' for values with '$' sign and 'without_$' for values without '$'\n",
    "\n",
    "df20_21['with_$'] = df20_21['Updated_Amount'].apply(lambda x: x if '$' in str(x) else None)\n",
    "df20_21['without_$'] = df20_21['Updated_Amount'].apply(lambda x: x if '$' not in str(x) else None)\n",
    "\n",
    "# # Remove the currency sysmbols and the commas \n",
    "\n",
    "df20_21['with_$'] = df20_21['with_$'].str.replace('$', '')\n",
    "# # Replace 'Undisclosed' values with NaN\n",
    "\n",
    "df20_21['with_$'] = df20_21['with_$'].replace('Undisclosed', np.nan, regex=True)\n",
    "# # Convert the object values into numeric values for calculation\n",
    "\n",
    "df20_21['with_$'] = pd.to_numeric(df20_21['with_$'], errors='coerce')\n",
    "df20_21['without_$'] = pd.to_numeric(df20_21['without_$'], errors='coerce')"
   ]
  },
  {
   "cell_type": "code",
   "execution_count": 37,
   "metadata": {},
   "outputs": [],
   "source": [
    "# # Merge the two Colunms into a new colunm 'without_$' and with_$ together\n",
    "\n",
    "df20_21['Updated_Amount'] = df20_21['without_$'].fillna(df20_21['with_$'])"
   ]
  },
  {
   "cell_type": "code",
   "execution_count": 38,
   "metadata": {},
   "outputs": [],
   "source": [
    "# # drop some new columns created and rename the updated _amount column\n",
    "df20_21.drop(['Amount','with_$','without_$'], axis=1, inplace=True)\n",
    "df20_21.rename(columns={'Updated_Amount':'Amount($)'}, inplace=True)"
   ]
  },
  {
   "cell_type": "code",
   "execution_count": 39,
   "metadata": {},
   "outputs": [
    {
     "data": {
      "text/plain": [
       "False    2233\n",
       "True       31\n",
       "dtype: int64"
      ]
     },
     "execution_count": 39,
     "metadata": {},
     "output_type": "execute_result"
    }
   ],
   "source": [
    "# cheking for duplicates in the csv files 2020 qmd 2021\n",
    "df20_21.duplicated().value_counts()"
   ]
  },
  {
   "cell_type": "code",
   "execution_count": 40,
   "metadata": {},
   "outputs": [],
   "source": [
    "# drop duplicates\n",
    "df20_21.drop_duplicates(keep='first',inplace=True)"
   ]
  },
  {
   "cell_type": "markdown",
   "metadata": {},
   "source": [
    "# Merging All the Files Together"
   ]
  },
  {
   "cell_type": "code",
   "execution_count": 41,
   "metadata": {},
   "outputs": [],
   "source": [
    "# merging  all the tabgles together\n",
    "india_startup_df = pd.concat([data_18_19, df20_21], ignore_index=True)"
   ]
  },
  {
   "cell_type": "code",
   "execution_count": 42,
   "metadata": {},
   "outputs": [
    {
     "data": {
      "text/html": [
       "<div>\n",
       "<style scoped>\n",
       "    .dataframe tbody tr th:only-of-type {\n",
       "        vertical-align: middle;\n",
       "    }\n",
       "\n",
       "    .dataframe tbody tr th {\n",
       "        vertical-align: top;\n",
       "    }\n",
       "\n",
       "    .dataframe thead th {\n",
       "        text-align: right;\n",
       "    }\n",
       "</style>\n",
       "<table border=\"1\" class=\"dataframe\">\n",
       "  <thead>\n",
       "    <tr style=\"text-align: right;\">\n",
       "      <th></th>\n",
       "      <th>Company_Brand</th>\n",
       "      <th>Sector</th>\n",
       "      <th>Stage</th>\n",
       "      <th>BIO</th>\n",
       "      <th>Year</th>\n",
       "      <th>HeadQuarter</th>\n",
       "      <th>Amount($)</th>\n",
       "    </tr>\n",
       "  </thead>\n",
       "  <tbody>\n",
       "    <tr>\n",
       "      <th>0</th>\n",
       "      <td>TheCollegeFever</td>\n",
       "      <td>Brand Marketing, Event Promotion, Marketing, S...</td>\n",
       "      <td>Seed</td>\n",
       "      <td>TheCollegeFever is a hub for fun, fiesta and f...</td>\n",
       "      <td>2018</td>\n",
       "      <td>Bangalore</td>\n",
       "      <td>250000.0</td>\n",
       "    </tr>\n",
       "    <tr>\n",
       "      <th>1</th>\n",
       "      <td>Happy Cow Dairy</td>\n",
       "      <td>Agriculture, Farming</td>\n",
       "      <td>Seed</td>\n",
       "      <td>A startup which aggregates milk from dairy far...</td>\n",
       "      <td>2018</td>\n",
       "      <td>Mumbai</td>\n",
       "      <td>40000000.0</td>\n",
       "    </tr>\n",
       "  </tbody>\n",
       "</table>\n",
       "</div>"
      ],
      "text/plain": [
       "     Company_Brand                                             Sector Stage  \\\n",
       "0  TheCollegeFever  Brand Marketing, Event Promotion, Marketing, S...  Seed   \n",
       "1  Happy Cow Dairy                               Agriculture, Farming  Seed   \n",
       "\n",
       "                                                 BIO  Year HeadQuarter  \\\n",
       "0  TheCollegeFever is a hub for fun, fiesta and f...  2018   Bangalore   \n",
       "1  A startup which aggregates milk from dairy far...  2018      Mumbai   \n",
       "\n",
       "    Amount($)  \n",
       "0    250000.0  \n",
       "1  40000000.0  "
      ]
     },
     "execution_count": 42,
     "metadata": {},
     "output_type": "execute_result"
    }
   ],
   "source": [
    "india_startup_df.head(2)"
   ]
  },
  {
   "cell_type": "code",
   "execution_count": 43,
   "metadata": {},
   "outputs": [
    {
     "data": {
      "text/plain": [
       "False    2847\n",
       "dtype: int64"
      ]
     },
     "execution_count": 43,
     "metadata": {},
     "output_type": "execute_result"
    }
   ],
   "source": [
    "#  checking the duplicates in all the table\n",
    "india_startup_df.duplicated().value_counts()"
   ]
  },
  {
   "cell_type": "code",
   "execution_count": 44,
   "metadata": {},
   "outputs": [],
   "source": [
    "# #Amount\n",
    "# def convert_to_dollars(value, conversion_rate):\n",
    "#     try:\n",
    "#         if isinstance(value, str):\n",
    "#             if '₹' in value:\n",
    "#                 # Extract the numeric part and convert to float\n",
    "#                 amount_in_rupees = float(value.replace('₹', '').replace(',', ''))\n",
    "               \n",
    "#                 # Convert to dollars using the conversion rate\n",
    "#                 amount_in_dollars = amount_in_rupees * conversion_rate\n",
    "#                 return amount_in_dollars\n",
    "           \n",
    "#             elif '$' in value:\n",
    "#                 # If already in dollars, remove commas and return as float\n",
    "#                 return float(value.replace(',', '').replace('$', ''))\n",
    "#             elif '' in value:\n",
    "#                 return value\n",
    "       \n",
    "#         # If it's not a string with currency symbols, return the original value\n",
    "#         return value\n",
    "#     except ValueError:\n",
    "       \n",
    "#         return None\n",
    " \n",
    "# # Assuming 'data' is a DataFrame with a column 'Amount($)' to convert\n",
    "# conversion_rate = 0.0146\n",
    " \n",
    "# # Apply the function to the 'Amount($)' column\n",
    "# india_startup_df['Amount'] = india_startup_df['Amount'].apply(lambda x: convert_to_dollars(x, conversion_rate))\n",
    " \n",
    "# # Display the updated DataFrame\n",
    "# india_startup_df.head()"
   ]
  },
  {
   "cell_type": "code",
   "execution_count": 45,
   "metadata": {},
   "outputs": [],
   "source": [
    "# rename the amount column to amount($)\n",
    "# india_startup_df.rename(columns={'Amount':'Amount($)'}, inplace=True)"
   ]
  },
  {
   "cell_type": "code",
   "execution_count": 46,
   "metadata": {},
   "outputs": [],
   "source": [
    "# india_startup_df['Amount($)'] = india_startup_df['Amount($)'].replace('Undisclosed', np.nan, regex=True)"
   ]
  },
  {
   "cell_type": "code",
   "execution_count": 47,
   "metadata": {},
   "outputs": [],
   "source": [
    "\n",
    "# # filling the amount column with 0\n",
    "# india_startup_df['Amount($)'].fillna(0, inplace=True)"
   ]
  },
  {
   "cell_type": "code",
   "execution_count": 48,
   "metadata": {},
   "outputs": [],
   "source": [
    "# import pandas as pd\n",
    "# import numpy as np\n",
    "\n",
    "# # Replace '—' with NaN in the 'Amount($)' column\n",
    "# india_startup_df['Amount($)'] = india_startup_df['Amount($)'].replace('—', np.nan)\n",
    "\n",
    "# # Convert the 'Amount($)' column to float\n",
    "# india_startup_df['Amount($)'] = india_startup_df['Amount($)'].astype(float)"
   ]
  },
  {
   "cell_type": "code",
   "execution_count": null,
   "metadata": {},
   "outputs": [],
   "source": []
  },
  {
   "cell_type": "code",
   "execution_count": 49,
   "metadata": {},
   "outputs": [
    {
     "data": {
      "text/html": [
       "<div>\n",
       "<style scoped>\n",
       "    .dataframe tbody tr th:only-of-type {\n",
       "        vertical-align: middle;\n",
       "    }\n",
       "\n",
       "    .dataframe tbody tr th {\n",
       "        vertical-align: top;\n",
       "    }\n",
       "\n",
       "    .dataframe thead th {\n",
       "        text-align: right;\n",
       "    }\n",
       "</style>\n",
       "<table border=\"1\" class=\"dataframe\">\n",
       "  <thead>\n",
       "    <tr style=\"text-align: right;\">\n",
       "      <th></th>\n",
       "      <th>Company_Brand</th>\n",
       "      <th>Sector</th>\n",
       "      <th>Stage</th>\n",
       "      <th>BIO</th>\n",
       "      <th>Year</th>\n",
       "      <th>HeadQuarter</th>\n",
       "      <th>Amount($)</th>\n",
       "    </tr>\n",
       "  </thead>\n",
       "  <tbody>\n",
       "    <tr>\n",
       "      <th>0</th>\n",
       "      <td>TheCollegeFever</td>\n",
       "      <td>Brand Marketing, Event Promotion, Marketing, S...</td>\n",
       "      <td>Seed</td>\n",
       "      <td>TheCollegeFever is a hub for fun, fiesta and f...</td>\n",
       "      <td>2018</td>\n",
       "      <td>Bangalore</td>\n",
       "      <td>250000.0</td>\n",
       "    </tr>\n",
       "    <tr>\n",
       "      <th>1</th>\n",
       "      <td>Happy Cow Dairy</td>\n",
       "      <td>Agriculture, Farming</td>\n",
       "      <td>Seed</td>\n",
       "      <td>A startup which aggregates milk from dairy far...</td>\n",
       "      <td>2018</td>\n",
       "      <td>Mumbai</td>\n",
       "      <td>40000000.0</td>\n",
       "    </tr>\n",
       "    <tr>\n",
       "      <th>2</th>\n",
       "      <td>MyLoanCare</td>\n",
       "      <td>Credit, Financial Services, Lending, Marketplace</td>\n",
       "      <td>Series A</td>\n",
       "      <td>Leading Online Loans Marketplace in India</td>\n",
       "      <td>2018</td>\n",
       "      <td>Gurgaon</td>\n",
       "      <td>65000000.0</td>\n",
       "    </tr>\n",
       "    <tr>\n",
       "      <th>3</th>\n",
       "      <td>PayMe India</td>\n",
       "      <td>Financial Services, FinTech</td>\n",
       "      <td>Angel</td>\n",
       "      <td>PayMe India is an innovative FinTech organizat...</td>\n",
       "      <td>2018</td>\n",
       "      <td>Noida</td>\n",
       "      <td>2000000.0</td>\n",
       "    </tr>\n",
       "    <tr>\n",
       "      <th>4</th>\n",
       "      <td>Eunimart</td>\n",
       "      <td>E-Commerce Platforms, Retail, SaaS</td>\n",
       "      <td>Seed</td>\n",
       "      <td>Eunimart is a one stop solution for merchants ...</td>\n",
       "      <td>2018</td>\n",
       "      <td>Hyderabad</td>\n",
       "      <td>NaN</td>\n",
       "    </tr>\n",
       "    <tr>\n",
       "      <th>...</th>\n",
       "      <td>...</td>\n",
       "      <td>...</td>\n",
       "      <td>...</td>\n",
       "      <td>...</td>\n",
       "      <td>...</td>\n",
       "      <td>...</td>\n",
       "      <td>...</td>\n",
       "    </tr>\n",
       "    <tr>\n",
       "      <th>2842</th>\n",
       "      <td>Gigforce</td>\n",
       "      <td>Staffing &amp; Recruiting</td>\n",
       "      <td>Pre-series A</td>\n",
       "      <td>A gig/on-demand staffing company.</td>\n",
       "      <td>2021</td>\n",
       "      <td>Gurugram</td>\n",
       "      <td>3000000.0</td>\n",
       "    </tr>\n",
       "    <tr>\n",
       "      <th>2843</th>\n",
       "      <td>Vahdam</td>\n",
       "      <td>Undisclosed</td>\n",
       "      <td>Series D</td>\n",
       "      <td>VAHDAM is among the world’s first vertically i...</td>\n",
       "      <td>2021</td>\n",
       "      <td>Delhi</td>\n",
       "      <td>20000000.0</td>\n",
       "    </tr>\n",
       "    <tr>\n",
       "      <th>2844</th>\n",
       "      <td>Leap Finance</td>\n",
       "      <td>Financial Services</td>\n",
       "      <td>Series C</td>\n",
       "      <td>International education loans for high potenti...</td>\n",
       "      <td>2021</td>\n",
       "      <td>Bangalore</td>\n",
       "      <td>55000000.0</td>\n",
       "    </tr>\n",
       "    <tr>\n",
       "      <th>2845</th>\n",
       "      <td>CollegeDekho</td>\n",
       "      <td>EdTech</td>\n",
       "      <td>Series B</td>\n",
       "      <td>Collegedekho.com is Student’s Partner, Friend ...</td>\n",
       "      <td>2021</td>\n",
       "      <td>Gurugram</td>\n",
       "      <td>26000000.0</td>\n",
       "    </tr>\n",
       "    <tr>\n",
       "      <th>2846</th>\n",
       "      <td>WeRize</td>\n",
       "      <td>Financial Services</td>\n",
       "      <td>Series A</td>\n",
       "      <td>India’s first socially distributed full stack ...</td>\n",
       "      <td>2021</td>\n",
       "      <td>Bangalore</td>\n",
       "      <td>8000000.0</td>\n",
       "    </tr>\n",
       "  </tbody>\n",
       "</table>\n",
       "<p>2847 rows × 7 columns</p>\n",
       "</div>"
      ],
      "text/plain": [
       "        Company_Brand                                             Sector  \\\n",
       "0     TheCollegeFever  Brand Marketing, Event Promotion, Marketing, S...   \n",
       "1     Happy Cow Dairy                               Agriculture, Farming   \n",
       "2          MyLoanCare   Credit, Financial Services, Lending, Marketplace   \n",
       "3         PayMe India                        Financial Services, FinTech   \n",
       "4            Eunimart                 E-Commerce Platforms, Retail, SaaS   \n",
       "...               ...                                                ...   \n",
       "2842         Gigforce                              Staffing & Recruiting   \n",
       "2843           Vahdam                                        Undisclosed   \n",
       "2844     Leap Finance                                 Financial Services   \n",
       "2845     CollegeDekho                                             EdTech   \n",
       "2846           WeRize                                 Financial Services   \n",
       "\n",
       "             Stage                                                BIO  Year  \\\n",
       "0             Seed  TheCollegeFever is a hub for fun, fiesta and f...  2018   \n",
       "1             Seed  A startup which aggregates milk from dairy far...  2018   \n",
       "2         Series A          Leading Online Loans Marketplace in India  2018   \n",
       "3            Angel  PayMe India is an innovative FinTech organizat...  2018   \n",
       "4             Seed  Eunimart is a one stop solution for merchants ...  2018   \n",
       "...            ...                                                ...   ...   \n",
       "2842  Pre-series A                  A gig/on-demand staffing company.  2021   \n",
       "2843      Series D  VAHDAM is among the world’s first vertically i...  2021   \n",
       "2844      Series C  International education loans for high potenti...  2021   \n",
       "2845      Series B  Collegedekho.com is Student’s Partner, Friend ...  2021   \n",
       "2846      Series A  India’s first socially distributed full stack ...  2021   \n",
       "\n",
       "     HeadQuarter   Amount($)  \n",
       "0      Bangalore    250000.0  \n",
       "1         Mumbai  40000000.0  \n",
       "2        Gurgaon  65000000.0  \n",
       "3          Noida   2000000.0  \n",
       "4      Hyderabad         NaN  \n",
       "...          ...         ...  \n",
       "2842    Gurugram   3000000.0  \n",
       "2843       Delhi  20000000.0  \n",
       "2844   Bangalore  55000000.0  \n",
       "2845    Gurugram  26000000.0  \n",
       "2846   Bangalore   8000000.0  \n",
       "\n",
       "[2847 rows x 7 columns]"
      ]
     },
     "execution_count": 49,
     "metadata": {},
     "output_type": "execute_result"
    }
   ],
   "source": [
    "india_startup_df"
   ]
  },
  {
   "cell_type": "code",
   "execution_count": 50,
   "metadata": {},
   "outputs": [
    {
     "name": "stdout",
     "output_type": "stream",
     "text": [
      "<class 'pandas.core.frame.DataFrame'>\n",
      "RangeIndex: 2847 entries, 0 to 2846\n",
      "Data columns (total 7 columns):\n",
      " #   Column         Non-Null Count  Dtype  \n",
      "---  ------         --------------  -----  \n",
      " 0   Company_Brand  2847 non-null   object \n",
      " 1   Sector         2829 non-null   object \n",
      " 2   Stage          1922 non-null   object \n",
      " 3   BIO            2847 non-null   object \n",
      " 4   Year           2847 non-null   object \n",
      " 5   HeadQuarter    2828 non-null   object \n",
      " 6   Amount($)      1948 non-null   float64\n",
      "dtypes: float64(1), object(6)\n",
      "memory usage: 155.8+ KB\n"
     ]
    }
   ],
   "source": [
    "# checking for the info\n",
    "india_startup_df.info()"
   ]
  },
  {
   "cell_type": "markdown",
   "metadata": {},
   "source": [
    "<b> Harmonising and cleaning the sector column<b>"
   ]
  },
  {
   "cell_type": "code",
   "execution_count": 51,
   "metadata": {},
   "outputs": [],
   "source": [
    "# Filling the missing value in stage column \n",
    "india_startup_df['Sector'].fillna('Unknown', inplace=True)"
   ]
  },
  {
   "cell_type": "code",
   "execution_count": 52,
   "metadata": {},
   "outputs": [],
   "source": [
    "# merging some of the sector data together base on the services they lender \n",
    "india_startup_df.loc[india_startup_df['Sector'].str.contains('Finance'),'Sector']= 'Financial Institution'\n",
    "india_startup_df.loc[india_startup_df['Sector'].str.contains('Education'),'Sector']= 'Education'\n",
    "india_startup_df.loc[india_startup_df['Sector'].str.contains('Health'), 'Sector'] = 'Health Care'\n",
    "india_startup_df.loc[india_startup_df['Sector'].str.contains('Marketing'), 'Sector'] = 'Marketing Services'\n",
    "india_startup_df.loc[india_startup_df['Sector'].str.contains('Commerce'), 'Sector']= 'E-Commerce'\n",
    "india_startup_df.loc[india_startup_df['Sector'].str.contains('Artificial'),'Sector']= 'Artificial intelligence'\n",
    "india_startup_df.loc[india_startup_df['Sector'].str.contains('AI'),'Sector']= 'Artificial intelligence'\n",
    "india_startup_df.loc[india_startup_df['Sector'].str.contains('Farming'),'Sector']= 'Agriculture'\n",
    "india_startup_df.loc[india_startup_df['Sector'].str.contains('Agriculture'),'Sector']= 'Agriculture'\n",
    "india_startup_df.loc[india_startup_df['Sector'].str.contains('Internet'),'Sector']= 'Internet Services'\n",
    "india_startup_df.loc[india_startup_df['Sector'].str.contains('Computer'),'Sector']= 'Technology'\n",
    "india_startup_df.loc[india_startup_df['Sector'].str.contains('Financial'),'Sector']= 'Financial Services'\n",
    "india_startup_df.loc[india_startup_df['Sector'].str.contains('Tech'),'Sector']= 'Technology'\n",
    "india_startup_df.loc[india_startup_df['Sector'].str.contains('Transportation'),'Sector']= 'Transport Services'\n",
    "india_startup_df.loc[india_startup_df['Sector'].str.contains('Software'),'Sector']= 'Technology'\n",
    "india_startup_df.loc[india_startup_df['Sector'].str.contains('Home'),'Sector']= 'Home'\n",
    "india_startup_df.loc[india_startup_df['Sector'].str.contains('SaaS'),'Sector']= 'Internet Services'\n",
    "india_startup_df.loc[india_startup_df['Sector'].str.contains('PaaS'),'Sector']= 'Internest Services'\n"
   ]
  },
  {
   "cell_type": "code",
   "execution_count": 53,
   "metadata": {},
   "outputs": [
    {
     "data": {
      "text/plain": [
       "array(['Marketing Services', 'Agriculture', 'Financial Services',\n",
       "       'E-Commerce', 'Internet Services', 'Market Research', 'Technology',\n",
       "       'Mobile Payments', 'B2B, Shoes', 'Food Delivery',\n",
       "       'Industrial Automation',\n",
       "       'Automotive, Search Engine, Service Industry',\n",
       "       'Artificial intelligence', 'Transport Services',\n",
       "       'Food and Beverage', 'Autonomous Vehicles', 'Health Care',\n",
       "       'Logistics, Supply Chain Management',\n",
       "       'Automotive, Marketplace, Online Portals', 'Insurance',\n",
       "       'Industrial Automation, Logistics, Supply Chain Management',\n",
       "       'Food and Beverage, Food Delivery, Snack Food', 'Education',\n",
       "       'Renewable Energy', 'Apps, Messaging, Navigation, Public Safety',\n",
       "       'Hospitality', 'Food and Beverage, Tea',\n",
       "       'Media and Entertainment, News, Outdoors',\n",
       "       'Broadcasting, Media and Entertainment, Music, Music Streaming, Video, Video Streaming',\n",
       "       '—', 'Sports', 'Food Processing, Retail', 'Trading Platform',\n",
       "       \"Consumer Goods, Lifestyle, Men's\", 'Wellness',\n",
       "       'Food and Beverage, Food Processing, Nutrition', 'Fashion',\n",
       "       'Automotive, Electric Vehicle, Energy Storage',\n",
       "       'Consulting, Retail, Social',\n",
       "       'Biotechnology, Life Science, Pharmaceutical, Product Research',\n",
       "       'Communities, Coworking, Incubators',\n",
       "       'Consumer Applications, Information Services, Location Based Services, Virtual Assistant',\n",
       "       'Mobile, Mobile Apps, Personalization, Test and Measurement, Web Apps',\n",
       "       'Marketplace, Real Estate, Rental Property', 'Aerospace', 'Home',\n",
       "       'Energy, Solar', 'Apps, Beauty, Consumer, Retail',\n",
       "       'Automotive, Electric Vehicle, Renewable Energy', 'E-Learning',\n",
       "       'Food Delivery, Online Portals, Restaurants',\n",
       "       'Manufacturing, Retail', 'Manufacturing', 'Hospital', 'Events',\n",
       "       '3D Printing, Manufacturing, Product Design', 'Automotive',\n",
       "       'Automotive, Retail', 'Apps, Audio',\n",
       "       'Digital Entertainment, Fantasy Sports, Sports',\n",
       "       'Funding Platform, Incubators, Non Profit',\n",
       "       'Hospitality, Hotel, Leisure, Travel',\n",
       "       'Banking, E-Learning, Trading Platform',\n",
       "       'Audio, Mobile, Tourism, Travel',\n",
       "       'Energy, Energy Storage, Infrastructure',\n",
       "       'Automotive, Battery, Energy, Energy Storage',\n",
       "       'Food Delivery, Organic, Organic Food', 'Mobile', 'Rental',\n",
       "       'Travel', 'Consumer', 'Wealth Management', 'Biotechnology',\n",
       "       'Veterinary', 'Tourism, Travel', 'Hospitality, Real Estate',\n",
       "       'Digital Media, EBooks, Publishing, Reading Apps',\n",
       "       'Food and Beverage, Food Processing',\n",
       "       'Facilities Support Services',\n",
       "       'Automotive, Electric Vehicle, Energy',\n",
       "       'Fashion, Lifestyle, Retail', 'Medical', 'Music Streaming',\n",
       "       'Retail', 'Business Development, Market Research, Outsourcing',\n",
       "       'Human Resources', 'Training',\n",
       "       'Manufacturing, Oil and Gas, Robotics',\n",
       "       'Collaboration, Communities, Coworking, Sharing Economy',\n",
       "       'Nanotechnology', 'Digital Media',\n",
       "       'File Sharing, Personalization, Social Media',\n",
       "       'B2B, Food and Beverage, Food Delivery',\n",
       "       'Catering, Food and Beverage, Food Delivery, Food Processing',\n",
       "       'Food and Beverage, Snack Food',\n",
       "       'Environmental Consulting, Renewable Energy',\n",
       "       'Commercial Real Estate, Coworking, Office Administration, Real Estate',\n",
       "       'Food and Beverage, Food Processing, Organic Food, Snack Food',\n",
       "       'Digital Media, Incubators, Social Entrepreneurship',\n",
       "       'Consumer Electronics',\n",
       "       'Delivery Service, Logistics, Service Industry',\n",
       "       'Media and Entertainment, News, Publishing', 'Consulting',\n",
       "       'Digital Media, News, Publishing',\n",
       "       'Fraud Detection, Information Services, Security',\n",
       "       'Cryptocurrency, Trading Platform', 'Wedding', 'Consumer Goods',\n",
       "       'Digital Entertainment', 'Delivery, Drones, Geospatial, Robotics',\n",
       "       'Business Travel, Hospitality, Hotel, Marketplace, Tourism, Travel Accommodations',\n",
       "       'Medical Device', 'Human Resources, Security, Training', 'Banking',\n",
       "       'Food Processing', 'Apps',\n",
       "       'Digital Entertainment, Fantasy Sports, Gaming, Sports',\n",
       "       'Smart Cities, Telecommunications', 'Medical, Tourism',\n",
       "       'Fashion, Graphic Design, Wearables',\n",
       "       'Automotive, Rental, Sharing Economy',\n",
       "       'Energy, Environmental Consulting, Renewable Energy, Solar',\n",
       "       'Credit Cards, Payments, Property Insurance, Property Management, Rental Property',\n",
       "       'Social Media, Sports', 'Biopharma',\n",
       "       'Digital Entertainment, Mobile, PC Games',\n",
       "       'Food and Beverage, Food Delivery', 'Apps, Payments, Retail',\n",
       "       'Rental, Taxi Service, Travel',\n",
       "       'Customer Service, Messaging, Mobile Apps, Personalization',\n",
       "       'Gaming, iOS, Sports', 'Search Engine', 'Cosmetics',\n",
       "       'Consulting, Cyber Security, Network Security',\n",
       "       'eSports, Gaming, Video Games', 'Fashion, Jewelry',\n",
       "       'B2B, Medical Device', 'Consumer Goods, Manufacturing',\n",
       "       'Reading Apps', 'Energy, Renewable Energy, Solar',\n",
       "       'Electric Vehicle',\n",
       "       'Automotive, Battery, Electric Vehicle, Manufacturing, Mechanical Design',\n",
       "       'B2B, Marketplace', 'Packaging Services',\n",
       "       'Food Delivery, Hospitality, Reservations, Restaurants, Search Engine',\n",
       "       'Collaboration, Communities, Coworking, Real Estate',\n",
       "       'Online Portals, Property Management, Rental',\n",
       "       'Music, Social Network, Video',\n",
       "       'Delivery Service, Food and Beverage, Food Delivery',\n",
       "       'Analytics, Apps, Market Research',\n",
       "       'News, Publishing, Social Media',\n",
       "       'Industrial, Industrial Automation', 'Apps, Events, News',\n",
       "       'Dating, Private Social Networking', 'Energy, Natural Resources',\n",
       "       'Food and Beverage, Snack Food, Tea', 'Fashion, Lifestyle, Rental',\n",
       "       'Fantasy Sports, Mobile, Sports', 'Beauty, Fashion, Wellness',\n",
       "       'Food and Beverage, Restaurants, Tea',\n",
       "       'Fitness, Sporting Goods, Sports',\n",
       "       'Food and Beverage, Food Processing, Manufacturing', 'Ecommerce',\n",
       "       'Edtech', 'Interior design', 'E-commerce', 'E-commerce & AR',\n",
       "       'Fintech', 'HR tech', 'Food tech', 'Safety tech', 'Pharmaceutical',\n",
       "       'Insurance technology', 'Foodtech', 'Food', 'IoT', 'E-marketplace',\n",
       "       'Logistics', 'Food & Nutrition', 'Social Media', 'Unknown',\n",
       "       'E-Sports', 'B2B', 'Jewellery', 'B2B Supply Chain', 'Games',\n",
       "       'Food & tech', 'Accomodation', 'Automotive tech', 'Legal tech',\n",
       "       'Mutual Funds', 'Cybersecurity', 'Automobile', 'Yoga & wellness',\n",
       "       'Virtual Banking', 'Transport & Rentals', 'Infratech',\n",
       "       'Hygiene management', 'Escrow', 'Networking platform',\n",
       "       'Crowdsourcing', 'Food & Bevarages', 'Fashion startup',\n",
       "       'Food Industry', 'Virtual auditing startup', 'Gaming',\n",
       "       'Work fulfillment', 'Telecommunication', 'Medtech',\n",
       "       'Tyre management', 'Cloud company', 'Venture capitalist',\n",
       "       'Renewable player', 'IoT startup', 'Aero company',\n",
       "       'Retail startup', 'Co-working Startup', 'Solar Monitoring Company',\n",
       "       'Video sharing platform', 'Gaming startup',\n",
       "       'Video streaming platform', 'Consumer appliances',\n",
       "       'Blockchain startup', 'Real Estate', 'Fusion beverages',\n",
       "       'Job portal', 'Dairy startup', 'Content management', 'Spacetech',\n",
       "       'Trading platform', 'Photonics startup', 'Entertainment',\n",
       "       'Scanning app', 'Skincare startup', 'Food and Beverages',\n",
       "       'Biotechnology company', 'Proptech', 'Fitness startup',\n",
       "       'Internest Services', 'Beverages', 'Automobiles', 'Deeptech',\n",
       "       'EV startup', 'AR/VR startup', 'Recruitment startup',\n",
       "       'QSR startup', 'Video platform', 'Fertility tech',\n",
       "       'Luxury car startup', 'FM', 'Nutrition sector', 'Video',\n",
       "       'Sles and marketing', 'Car Service', 'Bike marketplace',\n",
       "       'Agri tech', 'Reatil startup', 'AR platform',\n",
       "       'Content marketplace', 'Interior Design', 'Rental space',\n",
       "       'Ayurveda tech', 'Packaging solution startup', 'Cleantech',\n",
       "       'Sanitation solutions', 'Solar solution', 'Jewellery startup',\n",
       "       'Multinational conglomerate company', 'Deeptech startup',\n",
       "       'Social Network', 'Publication', 'Venture capital',\n",
       "       'Entreprenurship', 'Food devlivery', 'Warehouse',\n",
       "       'Online financial service', 'Eyeglasses', 'Battery design',\n",
       "       'Online credit management startup', 'Beverage',\n",
       "       'Startup laboratory', 'Personal care startup',\n",
       "       'Customer service company', 'Service industry', 'Social media',\n",
       "       'AR startup', 'Automotive Startup', 'Food Startup', 'Car Trade',\n",
       "       'Automation', 'WL & RAC protection', 'Social commerce',\n",
       "       'Agritech startup', 'API platform', 'Electricity',\n",
       "       'Automotive company', 'FMCG', 'Video personalization',\n",
       "       'Biomaterial startup', 'IT', 'Craft Beer', 'Investment',\n",
       "       'Linguistic Spiritual', 'Construction', 'Battery manufacturer',\n",
       "       'Nano Distribution Network', 'Dating app', 'Media',\n",
       "       'Mobility tech', 'Social e-commerce', 'Food & Logistics', 'HR',\n",
       "       'Agritech', 'AR/VR', 'Appliance', 'Solar Solution',\n",
       "       'B2B marketplace', 'Nutrition tech', 'Cloud Kitchen',\n",
       "       'IoT/Automobile', 'Eye Wear', 'Digital tech', 'Data Intelligence',\n",
       "       'Co-living', 'Food & Beverages', 'Defense tech', 'Marketplace',\n",
       "       'Construction tech', 'Nutrition', 'Coworking', 'Micro-mobiity',\n",
       "       'Auto-tech', 'Beauty', 'Robotics', 'Logitech', 'Life sciences',\n",
       "       'Retail Aggregator', 'Biotech', 'Blockchain', 'Mobility/Transport',\n",
       "       'Transport', 'Co-working', 'Insurtech', 'Cryptocurrency', 'Legal',\n",
       "       'Fitness', 'EV', 'Supply chain, Agritech', 'Pharma',\n",
       "       'Foodtech & Logistics', 'Housing', 'Data Analytics', 'Dairy',\n",
       "       'Beauty & wellness', 'Tourism & EV', 'Location Analytics',\n",
       "       'E store', 'Data Science', 'Interior & decor', 'eMobility',\n",
       "       'Automation tech', 'Media & Networking', 'E-market', 'Travel tech',\n",
       "       'Automotive and Rentals', 'E-tail', 'Machine Learning',\n",
       "       'Content Marktplace', 'Visual Media', 'Hygiene',\n",
       "       'Sales & Services', 'Housing & Rentals', 'Estore', 'E tailor',\n",
       "       'E-mobility', 'Ad-tech', 'Neo-banking', 'Transport Automation',\n",
       "       'Preschool Daycare', 'Food diet', 'B2B Agritech', 'E-connect',\n",
       "       'Consultancy', 'Pharmacy', 'Deisgning', 'Taxation',\n",
       "       'B2B E-commerce', 'B2B service', 'Helathcare', 'Electronics',\n",
       "       'IT startup', 'Undisclosed', 'Aeorspace', 'Dating',\n",
       "       'Oil and Energy', 'Telecommuncation', 'Milk startup',\n",
       "       'Food delivery', 'Fantasy sports', 'Video communication',\n",
       "       'Skill development', 'Recruitment', 'Apparel & Fashion',\n",
       "       'Logistics & Supply Chain', 'Wine & Spirits',\n",
       "       'Mechanical & Industrial Engineering', 'Spiritual', 'Lifestyle',\n",
       "       'Digital mortgage', 'Furniture', 'Healtcare', 'Tobacco',\n",
       "       'Insuretech', 'MLOps platform', 'Venture Capital', 'Pet care',\n",
       "       'Drone', 'Wholesale', 'E-learning', 'Consumer Services',\n",
       "       'Venture Capital & Private Equity', 'OTT', 'Capital Markets',\n",
       "       'Social network', 'Music', 'Hauz Khas', 'Mobility',\n",
       "       'Digital platform', 'B2B Ecommerce', 'Online Media',\n",
       "       'Mobile Games', 'Food Production', 'Podcast', 'Battery',\n",
       "       'Content publishing', 'Water purification', 'Content commerce',\n",
       "       'Innovation Management', 'Celebrity Engagement', 'Personal Care',\n",
       "       'Cannabis startup', 'Blogging', 'B2B Marketplace', 'Social audio',\n",
       "       'Fashion and lifestyle', 'Delivery service', 'B2B Manufacturing',\n",
       "       'Solar', 'TaaS startup', 'Manufacturing startup',\n",
       "       'Vehicle repair startup', 'Advisory firm', 'Legaltech',\n",
       "       'Pollution control equiptment', 'Fashion & Lifestyle', 'D2C',\n",
       "       'Environmental Services', 'Merchandise', 'Facilities Services',\n",
       "       'Eyewear', 'D2C Business', 'NFT Marketplace', 'Consumer software',\n",
       "       'Social community', 'Fishery', 'Renewables & Environment',\n",
       "       'Online storytelling', 'Aviation', 'IT company',\n",
       "       'Environmental service', 'Job discovery platform', 'D2C Fashion',\n",
       "       'Heathcare', 'CRM', 'D2C startup', 'Innovation management',\n",
       "       'Community platform', 'Networking', 'Commercial Real Estate',\n",
       "       'Consumer service', 'Consumer goods', 'Advertisement',\n",
       "       'Content creation', 'Augmented reality', 'Bike Rental',\n",
       "       'Beauty products', 'Tourism', 'Cultural', 'Supply chain platform',\n",
       "       'Social platform', 'Real estate', 'Sports startup', 'Matrimony',\n",
       "       'Crypto', 'Clothing', 'Analytics', 'IoT platform',\n",
       "       'Defense & Space', 'Business Supplies & Equipment', 'NFT',\n",
       "       'Oil & Energy', 'Company-as-a-Service', 'Textiles',\n",
       "       'Professional Training & Coaching', 'Maritime',\n",
       "       'Housing Marketplace', 'Furniture Rental', 'Telecommunications',\n",
       "       'Equity Management', 'Cloud kitchen', 'Community',\n",
       "       'Mechanical Or Industrial Engineering', 'D2C jewellery',\n",
       "       'Sales and Distribution', 'Information Services',\n",
       "       'Translation & Localization', 'Investment Banking', 'Femtech',\n",
       "       'sports', 'Foootwear', 'Legal Services', 'Arts & Crafts',\n",
       "       'Investment Management', 'Management Consulting', 'B2B startup',\n",
       "       'Sochcast is an Audio experiences company that give the listener and creators an Immersive Audio experience',\n",
       "       'Design', 'B2B Travel', 'Manchester, Greater Manchester',\n",
       "       'Product studio', 'Aviation & Aerospace', 'Staffing & Recruiting'],\n",
       "      dtype=object)"
      ]
     },
     "execution_count": 53,
     "metadata": {},
     "output_type": "execute_result"
    }
   ],
   "source": [
    "india_startup_df['Sector'].unique()"
   ]
  },
  {
   "cell_type": "markdown",
   "metadata": {},
   "source": [
    "<b> Harmonising and cleaning the stage column<b>"
   ]
  },
  {
   "cell_type": "markdown",
   "metadata": {},
   "source": [
    "Some of the data in the stage column are named differently but the still do serve the same purpose so we group them together and give them one common name foe easy analysis"
   ]
  },
  {
   "cell_type": "code",
   "execution_count": 54,
   "metadata": {},
   "outputs": [],
   "source": [
    "# filling the missing values in stage column\n",
    "india_startup_df['Stage'].fillna('Undisclosed', inplace=True)"
   ]
  },
  {
   "cell_type": "code",
   "execution_count": 55,
   "metadata": {},
   "outputs": [],
   "source": [
    "# grouping some of the stages together to have one commomn name\n",
    "india_startup_df.loc[india_startup_df['Stage'].str.contains('Series'), 'Stage'] = 'Series'\n",
    "india_startup_df.loc[india_startup_df['Stage'].str.contains('Post series'), 'Stage'] = 'Series'\n",
    "india_startup_df.loc[india_startup_df['Stage'].str.contains('Pre-series'), 'Stage'] = 'Series'\n",
    "india_startup_df.loc[india_startup_df['Stage'].str.contains('seed'), 'Stage'] = 'Seed'\n",
    "india_startup_df.loc[india_startup_df['Stage'].str.contains('Undisclose'), 'Stage'] = 'Undisclosed'\n",
    "india_startup_df.loc[india_startup_df['Stage'].str.contains('series'), 'Stage'] = 'Series'\n",
    "india_startup_df.loc[india_startup_df['Stage'].str.contains('Funding'), 'Stage'] = 'Seed'\n",
    "india_startup_df.loc[india_startup_df['Stage'].str.contains('funding'), 'Stage'] = 'Seed'\n",
    "india_startup_df.loc[india_startup_df['Stage'].str.contains('Seed'), 'Stage'] = 'Seed'\n",
    "india_startup_df.loc[india_startup_df['Stage'].str.contains('Grant'), 'Stage'] = 'Debt'\n",
    "india_startup_df.loc[india_startup_df['Stage'].str.contains('Debt'), 'Stage'] = 'Dept'\n",
    "india_startup_df.loc[india_startup_df['Stage'].str.contains('Seies'), 'Stage'] = 'Series'\n",
    "india_startup_df.loc[india_startup_df['Stage'].str.contains('0'), 'Stage'] = 'Angel'\n",
    "india_startup_df.loc[india_startup_df['Stage'].str.contains('Equity'), 'Stage'] = 'Equity'\n",
    "india_startup_df.loc[india_startup_df['Stage'].str.contains('Edge'), 'Stage'] = 'Bridge'\n",
    "india_startup_df.loc[india_startup_df['Stage'].str.contains('Bridge'), 'Stage'] = 'Bridge'\n",
    "india_startup_df.loc[india_startup_df['Stage'].str.contains('Angel'), 'Stage'] = 'Angel'"
   ]
  },
  {
   "cell_type": "code",
   "execution_count": 56,
   "metadata": {},
   "outputs": [
    {
     "data": {
      "text/plain": [
       "array(['Seed', 'Series', 'Angel', 'Equity', 'Dept', 'Corporate Round',\n",
       "       'Undisclosed', 'Secondary Market', 'Non-equity Assistance',\n",
       "       'Bridge', 'PE'], dtype=object)"
      ]
     },
     "execution_count": 56,
     "metadata": {},
     "output_type": "execute_result"
    }
   ],
   "source": [
    "india_startup_df['Stage'].unique()"
   ]
  },
  {
   "cell_type": "code",
   "execution_count": 57,
   "metadata": {},
   "outputs": [
    {
     "data": {
      "text/html": [
       "<div>\n",
       "<style scoped>\n",
       "    .dataframe tbody tr th:only-of-type {\n",
       "        vertical-align: middle;\n",
       "    }\n",
       "\n",
       "    .dataframe tbody tr th {\n",
       "        vertical-align: top;\n",
       "    }\n",
       "\n",
       "    .dataframe thead th {\n",
       "        text-align: right;\n",
       "    }\n",
       "</style>\n",
       "<table border=\"1\" class=\"dataframe\">\n",
       "  <thead>\n",
       "    <tr style=\"text-align: right;\">\n",
       "      <th></th>\n",
       "      <th>Company_Brand</th>\n",
       "      <th>Sector</th>\n",
       "      <th>Stage</th>\n",
       "      <th>BIO</th>\n",
       "      <th>Year</th>\n",
       "      <th>HeadQuarter</th>\n",
       "      <th>Amount($)</th>\n",
       "    </tr>\n",
       "  </thead>\n",
       "  <tbody>\n",
       "    <tr>\n",
       "      <th>0</th>\n",
       "      <td>TheCollegeFever</td>\n",
       "      <td>Marketing Services</td>\n",
       "      <td>Seed</td>\n",
       "      <td>TheCollegeFever is a hub for fun, fiesta and f...</td>\n",
       "      <td>2018</td>\n",
       "      <td>Bangalore</td>\n",
       "      <td>250000.0</td>\n",
       "    </tr>\n",
       "    <tr>\n",
       "      <th>1</th>\n",
       "      <td>Happy Cow Dairy</td>\n",
       "      <td>Agriculture</td>\n",
       "      <td>Seed</td>\n",
       "      <td>A startup which aggregates milk from dairy far...</td>\n",
       "      <td>2018</td>\n",
       "      <td>Mumbai</td>\n",
       "      <td>40000000.0</td>\n",
       "    </tr>\n",
       "    <tr>\n",
       "      <th>2</th>\n",
       "      <td>MyLoanCare</td>\n",
       "      <td>Financial Services</td>\n",
       "      <td>Series</td>\n",
       "      <td>Leading Online Loans Marketplace in India</td>\n",
       "      <td>2018</td>\n",
       "      <td>Gurgaon</td>\n",
       "      <td>65000000.0</td>\n",
       "    </tr>\n",
       "    <tr>\n",
       "      <th>3</th>\n",
       "      <td>PayMe India</td>\n",
       "      <td>Financial Services</td>\n",
       "      <td>Angel</td>\n",
       "      <td>PayMe India is an innovative FinTech organizat...</td>\n",
       "      <td>2018</td>\n",
       "      <td>Noida</td>\n",
       "      <td>2000000.0</td>\n",
       "    </tr>\n",
       "    <tr>\n",
       "      <th>4</th>\n",
       "      <td>Eunimart</td>\n",
       "      <td>E-Commerce</td>\n",
       "      <td>Seed</td>\n",
       "      <td>Eunimart is a one stop solution for merchants ...</td>\n",
       "      <td>2018</td>\n",
       "      <td>Hyderabad</td>\n",
       "      <td>NaN</td>\n",
       "    </tr>\n",
       "    <tr>\n",
       "      <th>...</th>\n",
       "      <td>...</td>\n",
       "      <td>...</td>\n",
       "      <td>...</td>\n",
       "      <td>...</td>\n",
       "      <td>...</td>\n",
       "      <td>...</td>\n",
       "      <td>...</td>\n",
       "    </tr>\n",
       "    <tr>\n",
       "      <th>2842</th>\n",
       "      <td>Gigforce</td>\n",
       "      <td>Staffing &amp; Recruiting</td>\n",
       "      <td>Series</td>\n",
       "      <td>A gig/on-demand staffing company.</td>\n",
       "      <td>2021</td>\n",
       "      <td>Gurugram</td>\n",
       "      <td>3000000.0</td>\n",
       "    </tr>\n",
       "    <tr>\n",
       "      <th>2843</th>\n",
       "      <td>Vahdam</td>\n",
       "      <td>Undisclosed</td>\n",
       "      <td>Series</td>\n",
       "      <td>VAHDAM is among the world’s first vertically i...</td>\n",
       "      <td>2021</td>\n",
       "      <td>Delhi</td>\n",
       "      <td>20000000.0</td>\n",
       "    </tr>\n",
       "    <tr>\n",
       "      <th>2844</th>\n",
       "      <td>Leap Finance</td>\n",
       "      <td>Financial Services</td>\n",
       "      <td>Series</td>\n",
       "      <td>International education loans for high potenti...</td>\n",
       "      <td>2021</td>\n",
       "      <td>Bangalore</td>\n",
       "      <td>55000000.0</td>\n",
       "    </tr>\n",
       "    <tr>\n",
       "      <th>2845</th>\n",
       "      <td>CollegeDekho</td>\n",
       "      <td>Technology</td>\n",
       "      <td>Series</td>\n",
       "      <td>Collegedekho.com is Student’s Partner, Friend ...</td>\n",
       "      <td>2021</td>\n",
       "      <td>Gurugram</td>\n",
       "      <td>26000000.0</td>\n",
       "    </tr>\n",
       "    <tr>\n",
       "      <th>2846</th>\n",
       "      <td>WeRize</td>\n",
       "      <td>Financial Services</td>\n",
       "      <td>Series</td>\n",
       "      <td>India’s first socially distributed full stack ...</td>\n",
       "      <td>2021</td>\n",
       "      <td>Bangalore</td>\n",
       "      <td>8000000.0</td>\n",
       "    </tr>\n",
       "  </tbody>\n",
       "</table>\n",
       "<p>2847 rows × 7 columns</p>\n",
       "</div>"
      ],
      "text/plain": [
       "        Company_Brand                 Sector   Stage  \\\n",
       "0     TheCollegeFever     Marketing Services    Seed   \n",
       "1     Happy Cow Dairy            Agriculture    Seed   \n",
       "2          MyLoanCare     Financial Services  Series   \n",
       "3         PayMe India     Financial Services   Angel   \n",
       "4            Eunimart             E-Commerce    Seed   \n",
       "...               ...                    ...     ...   \n",
       "2842         Gigforce  Staffing & Recruiting  Series   \n",
       "2843           Vahdam            Undisclosed  Series   \n",
       "2844     Leap Finance     Financial Services  Series   \n",
       "2845     CollegeDekho             Technology  Series   \n",
       "2846           WeRize     Financial Services  Series   \n",
       "\n",
       "                                                    BIO  Year HeadQuarter  \\\n",
       "0     TheCollegeFever is a hub for fun, fiesta and f...  2018   Bangalore   \n",
       "1     A startup which aggregates milk from dairy far...  2018      Mumbai   \n",
       "2             Leading Online Loans Marketplace in India  2018     Gurgaon   \n",
       "3     PayMe India is an innovative FinTech organizat...  2018       Noida   \n",
       "4     Eunimart is a one stop solution for merchants ...  2018   Hyderabad   \n",
       "...                                                 ...   ...         ...   \n",
       "2842                  A gig/on-demand staffing company.  2021    Gurugram   \n",
       "2843  VAHDAM is among the world’s first vertically i...  2021       Delhi   \n",
       "2844  International education loans for high potenti...  2021   Bangalore   \n",
       "2845  Collegedekho.com is Student’s Partner, Friend ...  2021    Gurugram   \n",
       "2846  India’s first socially distributed full stack ...  2021   Bangalore   \n",
       "\n",
       "       Amount($)  \n",
       "0       250000.0  \n",
       "1     40000000.0  \n",
       "2     65000000.0  \n",
       "3      2000000.0  \n",
       "4            NaN  \n",
       "...          ...  \n",
       "2842   3000000.0  \n",
       "2843  20000000.0  \n",
       "2844  55000000.0  \n",
       "2845  26000000.0  \n",
       "2846   8000000.0  \n",
       "\n",
       "[2847 rows x 7 columns]"
      ]
     },
     "execution_count": 57,
     "metadata": {},
     "output_type": "execute_result"
    }
   ],
   "source": [
    "india_startup_df[india_startup_df['Stage'].str.startswith('https') == False]"
   ]
  },
  {
   "cell_type": "code",
   "execution_count": 58,
   "metadata": {},
   "outputs": [
    {
     "data": {
      "text/plain": [
       "array(['Seed', 'Series', 'Angel', 'Equity', 'Dept', 'Corporate Round',\n",
       "       'Undisclosed', 'Secondary Market', 'Non-equity Assistance',\n",
       "       'Bridge', 'PE'], dtype=object)"
      ]
     },
     "execution_count": 58,
     "metadata": {},
     "output_type": "execute_result"
    }
   ],
   "source": [
    "# checking for the uniqness of the stage column\n",
    "india_startup_df['Stage'].unique()"
   ]
  },
  {
   "cell_type": "code",
   "execution_count": 59,
   "metadata": {},
   "outputs": [
    {
     "data": {
      "text/plain": [
       "Series                   1014\n",
       "Undisclosed               927\n",
       "Seed                      762\n",
       "Dept                       61\n",
       "Angel                      47\n",
       "Equity                     13\n",
       "Bridge                     10\n",
       "Corporate Round             8\n",
       "Secondary Market            3\n",
       "Non-equity Assistance       1\n",
       "PE                          1\n",
       "Name: Stage, dtype: int64"
      ]
     },
     "execution_count": 59,
     "metadata": {},
     "output_type": "execute_result"
    }
   ],
   "source": [
    "# counting the values in stage column\n",
    "india_startup_df['Stage'].value_counts()"
   ]
  },
  {
   "cell_type": "markdown",
   "metadata": {},
   "source": [
    "# ANALYSIS - ANWERING ANALYTICAL QUESTIONS ON THE DATA"
   ]
  },
  {
   "cell_type": "code",
   "execution_count": 60,
   "metadata": {},
   "outputs": [
    {
     "data": {
      "text/html": [
       "<div>\n",
       "<style scoped>\n",
       "    .dataframe tbody tr th:only-of-type {\n",
       "        vertical-align: middle;\n",
       "    }\n",
       "\n",
       "    .dataframe tbody tr th {\n",
       "        vertical-align: top;\n",
       "    }\n",
       "\n",
       "    .dataframe thead th {\n",
       "        text-align: right;\n",
       "    }\n",
       "</style>\n",
       "<table border=\"1\" class=\"dataframe\">\n",
       "  <thead>\n",
       "    <tr style=\"text-align: right;\">\n",
       "      <th></th>\n",
       "      <th>Amount($)</th>\n",
       "    </tr>\n",
       "  </thead>\n",
       "  <tbody>\n",
       "    <tr>\n",
       "      <th>count</th>\n",
       "      <td>1.948000e+03</td>\n",
       "    </tr>\n",
       "    <tr>\n",
       "      <th>mean</th>\n",
       "      <td>1.044113e+08</td>\n",
       "    </tr>\n",
       "    <tr>\n",
       "      <th>std</th>\n",
       "      <td>1.701336e+09</td>\n",
       "    </tr>\n",
       "    <tr>\n",
       "      <th>min</th>\n",
       "      <td>7.500000e+03</td>\n",
       "    </tr>\n",
       "    <tr>\n",
       "      <th>25%</th>\n",
       "      <td>1.000000e+06</td>\n",
       "    </tr>\n",
       "    <tr>\n",
       "      <th>50%</th>\n",
       "      <td>4.000000e+06</td>\n",
       "    </tr>\n",
       "    <tr>\n",
       "      <th>75%</th>\n",
       "      <td>2.000000e+07</td>\n",
       "    </tr>\n",
       "    <tr>\n",
       "      <th>max</th>\n",
       "      <td>7.000000e+10</td>\n",
       "    </tr>\n",
       "  </tbody>\n",
       "</table>\n",
       "</div>"
      ],
      "text/plain": [
       "          Amount($)\n",
       "count  1.948000e+03\n",
       "mean   1.044113e+08\n",
       "std    1.701336e+09\n",
       "min    7.500000e+03\n",
       "25%    1.000000e+06\n",
       "50%    4.000000e+06\n",
       "75%    2.000000e+07\n",
       "max    7.000000e+10"
      ]
     },
     "execution_count": 60,
     "metadata": {},
     "output_type": "execute_result"
    }
   ],
   "source": [
    "india_startup_df.describe()"
   ]
  },
  {
   "cell_type": "markdown",
   "metadata": {},
   "source": [
    "\n",
    "QUESTION 1\n",
    " which Headquarter has the most populated start up location"
   ]
  },
  {
   "cell_type": "code",
   "execution_count": 61,
   "metadata": {},
   "outputs": [
    {
     "data": {
      "text/html": [
       "<div>\n",
       "<style scoped>\n",
       "    .dataframe tbody tr th:only-of-type {\n",
       "        vertical-align: middle;\n",
       "    }\n",
       "\n",
       "    .dataframe tbody tr th {\n",
       "        vertical-align: top;\n",
       "    }\n",
       "\n",
       "    .dataframe thead th {\n",
       "        text-align: right;\n",
       "    }\n",
       "</style>\n",
       "<table border=\"1\" class=\"dataframe\">\n",
       "  <thead>\n",
       "    <tr style=\"text-align: right;\">\n",
       "      <th></th>\n",
       "      <th>HeadQuarter</th>\n",
       "      <th>Sector</th>\n",
       "    </tr>\n",
       "  </thead>\n",
       "  <tbody>\n",
       "    <tr>\n",
       "      <th>8</th>\n",
       "      <td>Bangalore</td>\n",
       "      <td>862</td>\n",
       "    </tr>\n",
       "    <tr>\n",
       "      <th>61</th>\n",
       "      <td>Mumbai</td>\n",
       "      <td>469</td>\n",
       "    </tr>\n",
       "    <tr>\n",
       "      <th>23</th>\n",
       "      <td>Delhi</td>\n",
       "      <td>315</td>\n",
       "    </tr>\n",
       "    <tr>\n",
       "      <th>35</th>\n",
       "      <td>Gurugram</td>\n",
       "      <td>239</td>\n",
       "    </tr>\n",
       "    <tr>\n",
       "      <th>19</th>\n",
       "      <td>Chennai</td>\n",
       "      <td>105</td>\n",
       "    </tr>\n",
       "  </tbody>\n",
       "</table>\n",
       "</div>"
      ],
      "text/plain": [
       "   HeadQuarter  Sector\n",
       "8    Bangalore     862\n",
       "61      Mumbai     469\n",
       "23       Delhi     315\n",
       "35    Gurugram     239\n",
       "19     Chennai     105"
      ]
     },
     "execution_count": 61,
     "metadata": {},
     "output_type": "execute_result"
    }
   ],
   "source": [
    "most_pop_location = india_startup_df.groupby('HeadQuarter')['Sector'].count().reset_index()\n",
    "most_pop_location = most_pop_location.sort_values(by='Sector', ascending = False)\n",
    "most_pop_location.head(5)"
   ]
  },
  {
   "cell_type": "code",
   "execution_count": 62,
   "metadata": {},
   "outputs": [
    {
     "data": {
      "image/png": "[encoded data removed]",
      "text/plain": [
       "<Figure size 700x400 with 1 Axes>"
      ]
     },
     "metadata": {},
     "output_type": "display_data"
    }
   ],
   "source": [
    "plt.figure(figsize=(7, 4))\n",
    "plt.title('Headquarter that has the most start-up')\n",
    "plt.style.use('fivethirtyeight')\n",
    "sns.barplot(y='HeadQuarter', x='Sector', palette=None, data=most_pop_location.iloc[:5], orient='h', hue='HeadQuarter')\n",
    "\n",
    "plt.ylabel('HeadQuarter')\n",
    "plt.xlabel('Total number of sectors')\n",
    "plt.show()"
   ]
  },
  {
   "cell_type": "markdown",
   "metadata": {},
   "source": [
    "# Question2"
   ]
  },
  {
   "cell_type": "markdown",
   "metadata": {},
   "source": [
    "<b> top 10 headquarter that has the highest start up funding<b>"
   ]
  },
  {
   "cell_type": "code",
   "execution_count": 63,
   "metadata": {},
   "outputs": [
    {
     "data": {
      "text/html": [
       "<div>\n",
       "<style scoped>\n",
       "    .dataframe tbody tr th:only-of-type {\n",
       "        vertical-align: middle;\n",
       "    }\n",
       "\n",
       "    .dataframe tbody tr th {\n",
       "        vertical-align: top;\n",
       "    }\n",
       "\n",
       "    .dataframe thead th {\n",
       "        text-align: right;\n",
       "    }\n",
       "</style>\n",
       "<table border=\"1\" class=\"dataframe\">\n",
       "  <thead>\n",
       "    <tr style=\"text-align: right;\">\n",
       "      <th></th>\n",
       "      <th>HeadQuarter</th>\n",
       "      <th>Amount($)</th>\n",
       "    </tr>\n",
       "  </thead>\n",
       "  <tbody>\n",
       "    <tr>\n",
       "      <th>61</th>\n",
       "      <td>Mumbai</td>\n",
       "      <td>9.950212e+10</td>\n",
       "    </tr>\n",
       "    <tr>\n",
       "      <th>8</th>\n",
       "      <td>Bangalore</td>\n",
       "      <td>2.247874e+10</td>\n",
       "    </tr>\n",
       "    <tr>\n",
       "      <th>37</th>\n",
       "      <td>Haryana</td>\n",
       "      <td>2.073980e+10</td>\n",
       "    </tr>\n",
       "    <tr>\n",
       "      <th>23</th>\n",
       "      <td>Delhi</td>\n",
       "      <td>1.910667e+10</td>\n",
       "    </tr>\n",
       "    <tr>\n",
       "      <th>12</th>\n",
       "      <td>Bengaluru</td>\n",
       "      <td>8.732550e+09</td>\n",
       "    </tr>\n",
       "    <tr>\n",
       "      <th>34</th>\n",
       "      <td>Gurgaon</td>\n",
       "      <td>6.653433e+09</td>\n",
       "    </tr>\n",
       "    <tr>\n",
       "      <th>41</th>\n",
       "      <td>Jaipur</td>\n",
       "      <td>6.006575e+09</td>\n",
       "    </tr>\n",
       "    <tr>\n",
       "      <th>35</th>\n",
       "      <td>Gurugram</td>\n",
       "      <td>4.833832e+09</td>\n",
       "    </tr>\n",
       "    <tr>\n",
       "      <th>68</th>\n",
       "      <td>Outside India</td>\n",
       "      <td>4.221500e+09</td>\n",
       "    </tr>\n",
       "    <tr>\n",
       "      <th>73</th>\n",
       "      <td>Pune</td>\n",
       "      <td>2.109737e+09</td>\n",
       "    </tr>\n",
       "  </tbody>\n",
       "</table>\n",
       "</div>"
      ],
      "text/plain": [
       "      HeadQuarter     Amount($)\n",
       "61         Mumbai  9.950212e+10\n",
       "8       Bangalore  2.247874e+10\n",
       "37        Haryana  2.073980e+10\n",
       "23          Delhi  1.910667e+10\n",
       "12      Bengaluru  8.732550e+09\n",
       "34        Gurgaon  6.653433e+09\n",
       "41         Jaipur  6.006575e+09\n",
       "35       Gurugram  4.833832e+09\n",
       "68  Outside India  4.221500e+09\n",
       "73           Pune  2.109737e+09"
      ]
     },
     "execution_count": 63,
     "metadata": {},
     "output_type": "execute_result"
    }
   ],
   "source": [
    "top_10_startup_amount = india_startup_df.groupby('HeadQuarter')['Amount($)'].sum().reset_index()\n",
    "top_10_startup_amount = top_10_startup_amount.sort_values(by='Amount($)', ascending=False)\n",
    "top_10_startup_amount.head(10)"
   ]
  },
  {
   "cell_type": "code",
   "execution_count": 64,
   "metadata": {},
   "outputs": [
    {
     "data": {
      "text/plain": [
       "<function matplotlib.pyplot.show(close=None, block=None)>"
      ]
     },
     "execution_count": 64,
     "metadata": {},
     "output_type": "execute_result"
    },
    {
     "data": {
      "image/png": "[encoded data removed]",
      "text/plain": [
       "<Figure size 700x400 with 1 Axes>"
      ]
     },
     "metadata": {},
     "output_type": "display_data"
    }
   ],
   "source": [
    "plt.figure(figsize=(7,4))\n",
    "plt.title('Top 10 headquarter with the highest start up funding')\n",
    "plt.style.use('fivethirtyeight')\n",
    "sns.barplot(x='Amount($)',y='HeadQuarter', palette='Blues_d', data=top_10_startup_amount.iloc[:10])\n",
    "\n",
    "plt.ylabel('HeadQuarters')\n",
    "plt.xlabel('Total Amount')\n",
    "\n",
    "plt.show"
   ]
  },
  {
   "cell_type": "markdown",
   "metadata": {},
   "source": [
    "# Question 3"
   ]
  },
  {
   "cell_type": "markdown",
   "metadata": {},
   "source": [
    "<b>top 10 sector that recieve the highest start up funding<b>"
   ]
  },
  {
   "cell_type": "code",
   "execution_count": 65,
   "metadata": {},
   "outputs": [
    {
     "data": {
      "text/html": [
       "<div>\n",
       "<style scoped>\n",
       "    .dataframe tbody tr th:only-of-type {\n",
       "        vertical-align: middle;\n",
       "    }\n",
       "\n",
       "    .dataframe tbody tr th {\n",
       "        vertical-align: top;\n",
       "    }\n",
       "\n",
       "    .dataframe thead th {\n",
       "        text-align: right;\n",
       "    }\n",
       "</style>\n",
       "<table border=\"1\" class=\"dataframe\">\n",
       "  <thead>\n",
       "    <tr style=\"text-align: right;\">\n",
       "      <th></th>\n",
       "      <th>Sector</th>\n",
       "      <th>Amount($)</th>\n",
       "    </tr>\n",
       "  </thead>\n",
       "  <tbody>\n",
       "    <tr>\n",
       "      <th>441</th>\n",
       "      <td>Retail</td>\n",
       "      <td>7.047448e+10</td>\n",
       "    </tr>\n",
       "    <tr>\n",
       "      <th>243</th>\n",
       "      <td>Financial Services</td>\n",
       "      <td>3.372333e+10</td>\n",
       "    </tr>\n",
       "    <tr>\n",
       "      <th>12</th>\n",
       "      <td>Aerospace</td>\n",
       "      <td>2.000000e+10</td>\n",
       "    </tr>\n",
       "    <tr>\n",
       "      <th>481</th>\n",
       "      <td>Technology</td>\n",
       "      <td>1.833937e+10</td>\n",
       "    </tr>\n",
       "    <tr>\n",
       "      <th>329</th>\n",
       "      <td>Internet Services</td>\n",
       "      <td>5.087982e+09</td>\n",
       "    </tr>\n",
       "    <tr>\n",
       "      <th>190</th>\n",
       "      <td>E-Commerce</td>\n",
       "      <td>3.396960e+09</td>\n",
       "    </tr>\n",
       "    <tr>\n",
       "      <th>296</th>\n",
       "      <td>Health Care</td>\n",
       "      <td>2.734647e+09</td>\n",
       "    </tr>\n",
       "    <tr>\n",
       "      <th>497</th>\n",
       "      <td>Transport Services</td>\n",
       "      <td>2.428250e+09</td>\n",
       "    </tr>\n",
       "    <tr>\n",
       "      <th>299</th>\n",
       "      <td>Home</td>\n",
       "      <td>2.272200e+09</td>\n",
       "    </tr>\n",
       "    <tr>\n",
       "      <th>388</th>\n",
       "      <td>Multinational conglomerate company</td>\n",
       "      <td>2.200000e+09</td>\n",
       "    </tr>\n",
       "  </tbody>\n",
       "</table>\n",
       "</div>"
      ],
      "text/plain": [
       "                                 Sector     Amount($)\n",
       "441                              Retail  7.047448e+10\n",
       "243                  Financial Services  3.372333e+10\n",
       "12                            Aerospace  2.000000e+10\n",
       "481                          Technology  1.833937e+10\n",
       "329                   Internet Services  5.087982e+09\n",
       "190                          E-Commerce  3.396960e+09\n",
       "296                         Health Care  2.734647e+09\n",
       "497                  Transport Services  2.428250e+09\n",
       "299                                Home  2.272200e+09\n",
       "388  Multinational conglomerate company  2.200000e+09"
      ]
     },
     "execution_count": 65,
     "metadata": {},
     "output_type": "execute_result"
    }
   ],
   "source": [
    "top_10_sector_amount = india_startup_df.groupby('Sector')['Amount($)'].sum().reset_index()\n",
    "top_10_sector_amount = top_10_sector_amount.sort_values(by='Amount($)', ascending=False)\n",
    "top_10_sector_amount.head(10)\n",
    "\n"
   ]
  },
  {
   "cell_type": "code",
   "execution_count": 66,
   "metadata": {},
   "outputs": [
    {
     "data": {
      "text/plain": [
       "<function matplotlib.pyplot.show(close=None, block=None)>"
      ]
     },
     "execution_count": 66,
     "metadata": {},
     "output_type": "execute_result"
    },
    {
     "data": {
      "image/png": "[encoded data removed]",
      "text/plain": [
       "<Figure size 700x400 with 1 Axes>"
      ]
     },
     "metadata": {},
     "output_type": "display_data"
    }
   ],
   "source": [
    "plt.figure(figsize=(7,4))\n",
    "plt.title('Top 10 sector with highest funding')\n",
    "plt.style.use('fivethirtyeight')\n",
    "\n",
    "sns.barplot(y='Sector', x='Amount($)', palette=None, data=top_10_sector_amount.iloc[:10])\n",
    "\n",
    "plt.ylabel('Sector')\n",
    "plt.xlabel('Amount')  \n",
    "\n",
    "plt.show"
   ]
  },
  {
   "cell_type": "markdown",
   "metadata": {},
   "source": [
    "# Question 4"
   ]
  },
  {
   "cell_type": "markdown",
   "metadata": {},
   "source": [
    "<b>Which year recieved has the most start up funding<b>"
   ]
  },
  {
   "cell_type": "code",
   "execution_count": 67,
   "metadata": {},
   "outputs": [
    {
     "data": {
      "text/plain": [
       "203393139295.0"
      ]
     },
     "execution_count": 67,
     "metadata": {},
     "output_type": "execute_result"
    }
   ],
   "source": [
    "india_startup_df['Amount($)'].sum()"
   ]
  },
  {
   "cell_type": "code",
   "execution_count": 68,
   "metadata": {},
   "outputs": [
    {
     "data": {
      "text/html": [
       "<div>\n",
       "<style scoped>\n",
       "    .dataframe tbody tr th:only-of-type {\n",
       "        vertical-align: middle;\n",
       "    }\n",
       "\n",
       "    .dataframe tbody tr th {\n",
       "        vertical-align: top;\n",
       "    }\n",
       "\n",
       "    .dataframe thead th {\n",
       "        text-align: right;\n",
       "    }\n",
       "</style>\n",
       "<table border=\"1\" class=\"dataframe\">\n",
       "  <thead>\n",
       "    <tr style=\"text-align: right;\">\n",
       "      <th></th>\n",
       "      <th>Year</th>\n",
       "      <th>Amount($)</th>\n",
       "    </tr>\n",
       "  </thead>\n",
       "  <tbody>\n",
       "    <tr>\n",
       "      <th>0</th>\n",
       "      <td>2018</td>\n",
       "      <td>2.398020e+08</td>\n",
       "    </tr>\n",
       "    <tr>\n",
       "      <th>2</th>\n",
       "      <td>2020</td>\n",
       "      <td>1.127288e+08</td>\n",
       "    </tr>\n",
       "    <tr>\n",
       "      <th>1</th>\n",
       "      <td>2019</td>\n",
       "      <td>4.333030e+07</td>\n",
       "    </tr>\n",
       "    <tr>\n",
       "      <th>3</th>\n",
       "      <td>2021</td>\n",
       "      <td>2.841682e+07</td>\n",
       "    </tr>\n",
       "  </tbody>\n",
       "</table>\n",
       "</div>"
      ],
      "text/plain": [
       "   Year     Amount($)\n",
       "0  2018  2.398020e+08\n",
       "2  2020  1.127288e+08\n",
       "1  2019  4.333030e+07\n",
       "3  2021  2.841682e+07"
      ]
     },
     "execution_count": 68,
     "metadata": {},
     "output_type": "execute_result"
    }
   ],
   "source": [
    "year_startup_funding=india_startup_df.groupby('Year')['Amount($)'].mean().reset_index()\n",
    "year_startup_funding=year_startup_funding.sort_values(by='Amount($)', ascending=False)\n",
    "year_startup_funding"
   ]
  },
  {
   "cell_type": "code",
   "execution_count": 69,
   "metadata": {},
   "outputs": [
    {
     "data": {
      "text/plain": [
       "<function matplotlib.pyplot.show(close=None, block=None)>"
      ]
     },
     "execution_count": 69,
     "metadata": {},
     "output_type": "execute_result"
    },
    {
     "data": {
      "image/png": "[encoded data removed]",
      "text/plain": [
       "<Figure size 700x400 with 1 Axes>"
      ]
     },
     "metadata": {},
     "output_type": "display_data"
    }
   ],
   "source": [
    "plt.figure(figsize=(7,4))\n",
    "\n",
    "sns.barplot(y='Year',x='Amount($)',palette=None, data=year_startup_funding)\n",
    "\n",
    "plt.show"
   ]
  },
  {
   "cell_type": "markdown",
   "metadata": {},
   "source": [
    "# Question 5"
   ]
  },
  {
   "cell_type": "markdown",
   "metadata": {},
   "source": [
    "<b>What is the funding trend in the Indian start-up ecosystem over the past few years<b>"
   ]
  },
  {
   "cell_type": "code",
   "execution_count": 70,
   "metadata": {},
   "outputs": [],
   "source": [
    "# Get the Sum\n",
    "\n",
    "total_funding = india_startup_df.groupby('Year')['Amount($)'].mean()"
   ]
  },
  {
   "cell_type": "code",
   "execution_count": 71,
   "metadata": {},
   "outputs": [
    {
     "data": {
      "image/png": "[encoded data removed]",
      "text/plain": [
       "<Figure size 1000x600 with 1 Axes>"
      ]
     },
     "metadata": {},
     "output_type": "display_data"
    }
   ],
   "source": [
    "# Plot the time series\n",
    "plt.figure(figsize=(10, 6))\n",
    "plt.plot(total_funding.index, total_funding.values, marker='o', linestyle='-', color='b')\n",
    "plt.xlabel('Year')\n",
    "plt.ylabel('Average Funding Amount (in millions)')\n",
    "plt.title('Average Funding Trend Over Four Years (2018-2021)')\n",
    "plt.grid(True)\n",
    "plt.show()"
   ]
  },
  {
   "cell_type": "markdown",
   "metadata": {},
   "source": [
    "# Hypothesis"
   ]
  },
  {
   "cell_type": "markdown",
   "metadata": {},
   "source": [
    "Ho: Location of a sector dose not have an impact on the amount of funding\n",
    "\n",
    "H1: Locattion of a sector has an impact on the amount of funding"
   ]
  },
  {
   "cell_type": "markdown",
   "metadata": {},
   "source": [
    "# Conclusion"
   ]
  },
  {
   "cell_type": "markdown",
   "metadata": {},
   "source": [
    "From the analysis we find out that location has no effect on the amount of start of funding because Bangalore has the highest sector location but Mumbai has the highest start-up funding"
   ]
  },
  {
   "cell_type": "markdown",
   "metadata": {},
   "source": [
    "# Recomendation"
   ]
  },
  {
   "cell_type": "markdown",
   "metadata": {},
   "source": [
    "1. which Head quarter has the most start up located\n",
    "2. top 10 headquarter that has the highest start up funding\n",
    "3. top 10 sector recieve the most start up funding\n",
    "4. which year has the most highest funding\n",
    "5. What is the funding trend in the Indian start-up ecosystem over the past few years"
   ]
  },
  {
   "cell_type": "code",
   "execution_count": 72,
   "metadata": {},
   "outputs": [
    {
     "name": "stdout",
     "output_type": "stream",
     "text": [
      "CSV file 'indian_start_up.csv' has been created.\n"
     ]
    }
   ],
   "source": [
    "import pandas as pd\n",
    "from io import StringIO\n",
    "\n",
    "# Assuming india_startup_df is your DataFrame\n",
    "\n",
    "# Convert the DataFrame to a CSV-formatted string\n",
    "csv_data = india_startup_df.to_csv(index=False)\n",
    "\n",
    "# Read the CSV-formatted string using StringIO\n",
    "df = pd.read_csv(StringIO(csv_data))\n",
    "\n",
    "# Specify the file path where you want to save the CSV file\n",
    "csv_file_path = \"indian_start_up.csv\"\n",
    "\n",
    "# Write the DataFrame to a CSV file\n",
    "df.to_csv(csv_file_path, index=False)\n",
    "\n",
    "print(f\"CSV file '{csv_file_path}' has been created.\")\n",
    "\n"
   ]
  },
  {
   "cell_type": "code",
   "execution_count": null,
   "metadata": {},
   "outputs": [],
   "source": [
    "df= df.TransformColumnTypes(\"Promoted Headers\",{{\"Company_Brand\", type text}, {\"Sector\", type text}, {\"Stage\", type text}, {\"BIO\", type text}, {\"Year\", Int64.Type}, {\"HeadQuarter\", type text}, {\"Amount($)\", Int64.Type}})\n"
   ]
  },
  {
   "cell_type": "code",
   "execution_count": null,
   "metadata": {},
   "outputs": [],
   "source": [
    "Changed_Type = Table.TransformColumnTypes(\"Promoted Headers\"),{\n",
    "    {\"Company_Brand\", type text},\n",
    "    {\"Sector\", type text},\n",
    "    {\"Stage\", type text},\n",
    "    {\"BIO\", type text},\n",
    "    {\"Year\", Int64.Type},\n",
    "    {\"HeadQuarter\", type text},\n",
    "    {\"Amount($)\", Int64.Type}\n",
    "})"
   ]
  },
  {
   "cell_type": "code",
   "execution_count": 73,
   "metadata": {},
   "outputs": [],
   "source": [
    "df = pd.read_csv('indian_start_up.csv')"
   ]
  },
  {
   "cell_type": "code",
   "execution_count": 74,
   "metadata": {},
   "outputs": [
    {
     "data": {
      "text/html": [
       "<div>\n",
       "<style scoped>\n",
       "    .dataframe tbody tr th:only-of-type {\n",
       "        vertical-align: middle;\n",
       "    }\n",
       "\n",
       "    .dataframe tbody tr th {\n",
       "        vertical-align: top;\n",
       "    }\n",
       "\n",
       "    .dataframe thead th {\n",
       "        text-align: right;\n",
       "    }\n",
       "</style>\n",
       "<table border=\"1\" class=\"dataframe\">\n",
       "  <thead>\n",
       "    <tr style=\"text-align: right;\">\n",
       "      <th></th>\n",
       "      <th>Company_Brand</th>\n",
       "      <th>Sector</th>\n",
       "      <th>Stage</th>\n",
       "      <th>BIO</th>\n",
       "      <th>Year</th>\n",
       "      <th>HeadQuarter</th>\n",
       "      <th>Amount($)</th>\n",
       "    </tr>\n",
       "  </thead>\n",
       "  <tbody>\n",
       "    <tr>\n",
       "      <th>0</th>\n",
       "      <td>TheCollegeFever</td>\n",
       "      <td>Marketing Services</td>\n",
       "      <td>Seed</td>\n",
       "      <td>TheCollegeFever is a hub for fun, fiesta and f...</td>\n",
       "      <td>2018</td>\n",
       "      <td>Bangalore</td>\n",
       "      <td>250000.0</td>\n",
       "    </tr>\n",
       "    <tr>\n",
       "      <th>1</th>\n",
       "      <td>Happy Cow Dairy</td>\n",
       "      <td>Agriculture</td>\n",
       "      <td>Seed</td>\n",
       "      <td>A startup which aggregates milk from dairy far...</td>\n",
       "      <td>2018</td>\n",
       "      <td>Mumbai</td>\n",
       "      <td>40000000.0</td>\n",
       "    </tr>\n",
       "    <tr>\n",
       "      <th>2</th>\n",
       "      <td>MyLoanCare</td>\n",
       "      <td>Financial Services</td>\n",
       "      <td>Series</td>\n",
       "      <td>Leading Online Loans Marketplace in India</td>\n",
       "      <td>2018</td>\n",
       "      <td>Gurgaon</td>\n",
       "      <td>65000000.0</td>\n",
       "    </tr>\n",
       "    <tr>\n",
       "      <th>3</th>\n",
       "      <td>PayMe India</td>\n",
       "      <td>Financial Services</td>\n",
       "      <td>Angel</td>\n",
       "      <td>PayMe India is an innovative FinTech organizat...</td>\n",
       "      <td>2018</td>\n",
       "      <td>Noida</td>\n",
       "      <td>2000000.0</td>\n",
       "    </tr>\n",
       "    <tr>\n",
       "      <th>4</th>\n",
       "      <td>Eunimart</td>\n",
       "      <td>E-Commerce</td>\n",
       "      <td>Seed</td>\n",
       "      <td>Eunimart is a one stop solution for merchants ...</td>\n",
       "      <td>2018</td>\n",
       "      <td>Hyderabad</td>\n",
       "      <td>NaN</td>\n",
       "    </tr>\n",
       "    <tr>\n",
       "      <th>...</th>\n",
       "      <td>...</td>\n",
       "      <td>...</td>\n",
       "      <td>...</td>\n",
       "      <td>...</td>\n",
       "      <td>...</td>\n",
       "      <td>...</td>\n",
       "      <td>...</td>\n",
       "    </tr>\n",
       "    <tr>\n",
       "      <th>2842</th>\n",
       "      <td>Gigforce</td>\n",
       "      <td>Staffing &amp; Recruiting</td>\n",
       "      <td>Series</td>\n",
       "      <td>A gig/on-demand staffing company.</td>\n",
       "      <td>2021</td>\n",
       "      <td>Gurugram</td>\n",
       "      <td>3000000.0</td>\n",
       "    </tr>\n",
       "    <tr>\n",
       "      <th>2843</th>\n",
       "      <td>Vahdam</td>\n",
       "      <td>Undisclosed</td>\n",
       "      <td>Series</td>\n",
       "      <td>VAHDAM is among the world’s first vertically i...</td>\n",
       "      <td>2021</td>\n",
       "      <td>Delhi</td>\n",
       "      <td>20000000.0</td>\n",
       "    </tr>\n",
       "    <tr>\n",
       "      <th>2844</th>\n",
       "      <td>Leap Finance</td>\n",
       "      <td>Financial Services</td>\n",
       "      <td>Series</td>\n",
       "      <td>International education loans for high potenti...</td>\n",
       "      <td>2021</td>\n",
       "      <td>Bangalore</td>\n",
       "      <td>55000000.0</td>\n",
       "    </tr>\n",
       "    <tr>\n",
       "      <th>2845</th>\n",
       "      <td>CollegeDekho</td>\n",
       "      <td>Technology</td>\n",
       "      <td>Series</td>\n",
       "      <td>Collegedekho.com is Student’s Partner, Friend ...</td>\n",
       "      <td>2021</td>\n",
       "      <td>Gurugram</td>\n",
       "      <td>26000000.0</td>\n",
       "    </tr>\n",
       "    <tr>\n",
       "      <th>2846</th>\n",
       "      <td>WeRize</td>\n",
       "      <td>Financial Services</td>\n",
       "      <td>Series</td>\n",
       "      <td>India’s first socially distributed full stack ...</td>\n",
       "      <td>2021</td>\n",
       "      <td>Bangalore</td>\n",
       "      <td>8000000.0</td>\n",
       "    </tr>\n",
       "  </tbody>\n",
       "</table>\n",
       "<p>2847 rows × 7 columns</p>\n",
       "</div>"
      ],
      "text/plain": [
       "        Company_Brand                 Sector   Stage  \\\n",
       "0     TheCollegeFever     Marketing Services    Seed   \n",
       "1     Happy Cow Dairy            Agriculture    Seed   \n",
       "2          MyLoanCare     Financial Services  Series   \n",
       "3         PayMe India     Financial Services   Angel   \n",
       "4            Eunimart             E-Commerce    Seed   \n",
       "...               ...                    ...     ...   \n",
       "2842         Gigforce  Staffing & Recruiting  Series   \n",
       "2843           Vahdam            Undisclosed  Series   \n",
       "2844     Leap Finance     Financial Services  Series   \n",
       "2845     CollegeDekho             Technology  Series   \n",
       "2846           WeRize     Financial Services  Series   \n",
       "\n",
       "                                                    BIO  Year HeadQuarter  \\\n",
       "0     TheCollegeFever is a hub for fun, fiesta and f...  2018   Bangalore   \n",
       "1     A startup which aggregates milk from dairy far...  2018      Mumbai   \n",
       "2             Leading Online Loans Marketplace in India  2018     Gurgaon   \n",
       "3     PayMe India is an innovative FinTech organizat...  2018       Noida   \n",
       "4     Eunimart is a one stop solution for merchants ...  2018   Hyderabad   \n",
       "...                                                 ...   ...         ...   \n",
       "2842                  A gig/on-demand staffing company.  2021    Gurugram   \n",
       "2843  VAHDAM is among the world’s first vertically i...  2021       Delhi   \n",
       "2844  International education loans for high potenti...  2021   Bangalore   \n",
       "2845  Collegedekho.com is Student’s Partner, Friend ...  2021    Gurugram   \n",
       "2846  India’s first socially distributed full stack ...  2021   Bangalore   \n",
       "\n",
       "       Amount($)  \n",
       "0       250000.0  \n",
       "1     40000000.0  \n",
       "2     65000000.0  \n",
       "3      2000000.0  \n",
       "4            NaN  \n",
       "...          ...  \n",
       "2842   3000000.0  \n",
       "2843  20000000.0  \n",
       "2844  55000000.0  \n",
       "2845  26000000.0  \n",
       "2846   8000000.0  \n",
       "\n",
       "[2847 rows x 7 columns]"
      ]
     },
     "execution_count": 74,
     "metadata": {},
     "output_type": "execute_result"
    }
   ],
   "source": [
    "df"
   ]
  },
  {
   "cell_type": "markdown",
   "metadata": {},
   "source": [
    "Hypothesis \n",
    "Hypothesis:  What the company dose depends on the amount of funding secured\n",
    "Null Hypothesis: What the company dose not have infulence  on the amount of funding secured "
   ]
  },
  {
   "cell_type": "markdown",
   "metadata": {},
   "source": [
    "  Hypothesis \n",
    "Hypothesis:  The amount of start up funding has infulence on the kind of investors \n",
    "\n",
    "Null Hypothesis: The amount of start up funding has no significance infulence on the investors "
   ]
  },
  {
   "cell_type": "markdown",
   "metadata": {},
   "source": []
  },
  {
   "cell_type": "markdown",
   "metadata": {},
   "source": []
  },
  {
   "cell_type": "markdown",
   "metadata": {},
   "source": []
  }
 ],
 "metadata": {
  "kernelspec": {
   "display_name": "Python 3",
   "language": "python",
   "name": "python3"
  },
  "language_info": {
   "codemirror_mode": {
    "name": "ipython",
    "version": 3
   },
   "file_extension": ".py",
   "mimetype": "text/x-python",
   "name": "python",
   "nbconvert_exporter": "python",
   "pygments_lexer": "ipython3",
   "version": "3.11.4"
  }
 },
 "nbformat": 4,
 "nbformat_minor": 2
}
